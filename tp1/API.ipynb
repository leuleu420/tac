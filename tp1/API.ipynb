{
 "cells": [
  {
   "cell_type": "code",
   "execution_count": 1,
   "metadata": {},
   "outputs": [
    {
     "ename": "SyntaxError",
     "evalue": "invalid syntax (662084273.py, line 4)",
     "output_type": "error",
     "traceback": [
      "\u001b[0;36m  Cell \u001b[0;32mIn [1], line 4\u001b[0;36m\u001b[0m\n\u001b[0;31m    const axios = require(\"axios\");\u001b[0m\n\u001b[0m          ^\u001b[0m\n\u001b[0;31mSyntaxError\u001b[0m\u001b[0;31m:\u001b[0m invalid syntax\n"
     ]
    }
   ],
   "source": [
    "# API de tokenization\n",
    "# https://rapidapi.com/fr/dwi.rizki.irawan/api/linguist/\n",
    "\n",
    "const axios = require(\"axios\");\n",
    "\n",
    "const encodedParams = new URLSearchParams();\n",
    "encodedParams.append(\"text\", \"my text payload\");\n",
    "\n",
    "const options = {\n",
    "  method: 'POST',\n",
    "  url: 'https://linguist.p.rapidapi.com/v1/tokenizer',\n",
    "  headers: {\n",
    "    'content-type': 'application/x-www-form-urlencoded',\n",
    "    'X-RapidAPI-Key': 'SIGN-UP-FOR-KEY',\n",
    "    'X-RapidAPI-Host': 'linguist.p.rapidapi.com'\n",
    "  },\n",
    "  data: encodedParams\n",
    "};\n",
    "\n",
    "axios.request(options).then(function (response) {\n",
    "\tconsole.log(response.data);\n",
    "}).catch(function (error) {\n",
    "\tconsole.error(error);\n",
    "});"
   ]
  }
 ],
 "metadata": {
  "kernelspec": {
   "display_name": "Python 3.10.7 ('tac_venv': venv)",
   "language": "python",
   "name": "python3"
  },
  "language_info": {
   "codemirror_mode": {
    "name": "ipython",
    "version": 3
   },
   "file_extension": ".py",
   "mimetype": "text/x-python",
   "name": "python",
   "nbconvert_exporter": "python",
   "pygments_lexer": "ipython3",
   "version": "3.10.7"
  },
  "orig_nbformat": 4,
  "vscode": {
   "interpreter": {
    "hash": "fc4111ba5b4dc9a0f40c20f04f531195302551394a5b81f5296f1ed3661613e4"
   }
  }
 },
 "nbformat": 4,
 "nbformat_minor": 2
}
