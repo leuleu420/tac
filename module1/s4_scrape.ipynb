{
 "cells": [
  {
   "cell_type": "markdown",
   "metadata": {},
   "source": [
    "# Scraping: récupération de la page d'accueil du journal Le Soir\n",
    "\n",
    "Dans ce notebook, nous créons un robot qui va ouvrir la page d'accueil du site du journal [Le Soir](https://www.lesoir.be/) et récupérer le titre de tous les articles du jour et les stocker dans un fichier csv."
   ]
  },
  {
   "cell_type": "markdown",
   "metadata": {},
   "source": [
    "## Imports"
   ]
  },
  {
   "cell_type": "code",
   "execution_count": 1,
   "metadata": {},
   "outputs": [],
   "source": [
    "import os\n",
    "import re\n",
    "import time\n",
    "import requests\n",
    "from bs4 import BeautifulSoup\n",
    "import pandas as pd"
   ]
  },
  {
   "cell_type": "markdown",
   "metadata": {},
   "source": [
    "## Récupération de tous les articles de la page d'accueil\n",
    "\n"
   ]
  },
  {
   "cell_type": "code",
   "execution_count": 2,
   "metadata": {},
   "outputs": [],
   "source": [
    "headers = {'User-Agent': 'Mozilla/5.0 (Macintosh; Intel Mac OS X 10_10_1) AppleWebKit/537.36 (KHTML, like Gecko) Chrome/39.0.2171.95 Safari/537.36'}\n",
    "\n",
    "articles = []\n",
    "\n",
    "root_url = f\"https://www.lesoir.be\"\n",
    "response = requests.get(root_url, headers=headers)\n",
    "soup = BeautifulSoup(response.text, 'html.parser')\n",
    "for link in soup.find_all(\"a\", {\"class\":\"r-article--link\"}):\n",
    "    title = link.text.strip()\n",
    "    url = root_url + link.get('href')\n",
    "    articles.append([url, title])"
   ]
  },
  {
   "cell_type": "code",
   "execution_count": 3,
   "metadata": {},
   "outputs": [
    {
     "data": {
      "text/plain": [
       "82"
      ]
     },
     "execution_count": 3,
     "metadata": {},
     "output_type": "execute_result"
    }
   ],
   "source": [
    "# Affichage du nombre d'articles récupérés\n",
    "len(articles)"
   ]
  },
  {
   "cell_type": "code",
   "execution_count": 4,
   "metadata": {},
   "outputs": [
    {
     "data": {
      "text/plain": [
       "[['https://www.lesoir.be/470628/article/2022-10-11/le-gouvernement-survit-lepreuve-budgetaire-de-croo-se-relance',\n",
       "  'Décodage\\nLe gouvernement survit à l’épreuve budgétaire, De Croo se relance'],\n",
       " ['https://www.lesoir.be/470604/article/2022-10-11/des-dizaines-de-civils-dont-un-enfant-exhumes-dans-les-villes-reconquises-par',\n",
       "  'Des dizaines de civils, dont un enfant, exhumés dans les villes reconquises par l’armée ukrainienne'],\n",
       " ['https://www.lesoir.be/470526/article/2022-10-11/sauve-par-des-soldats-russes-et-des-medecins-ukrainiens-un-journaliste-italien',\n",
       "  'Sauvé par des soldats russes et des médecins ukrainiens, un journaliste italien témoigne'],\n",
       " ['https://www.lesoir.be/470642/article/2022-10-11/un-vaisseau-de-la-nasa-reussi-devier-un-asteroide-de-sa-trajectoire-un-moment',\n",
       "  'Un vaisseau de la Nasa a réussi à dévier un astéroïde de sa trajectoire: «Un moment décisif pour l’humanité»'],\n",
       " ['https://www.lesoir.be/470641/article/2022-10-11/ligue-des-champions-hazard-titulaire-avec-le-real-le-psg-peut-se-qualifier-pour',\n",
       "  'Ligue des champions: Hazard titulaire avec le Real, le PSG peut se qualifier pour les 8es (direct à 21h)'],\n",
       " ['https://www.lesoir.be/470621/article/2022-10-11/cest-reparti-pour-une-nouvelle-saga-mbappe',\n",
       "  'Analyse\\nC’est reparti pour une nouvelle saga Mbappé'],\n",
       " ['https://www.lesoir.be/470618/article/2022-10-11/podcast-que-faut-il-retenir-de-laccord-budgetaire',\n",
       "  'Podcast – Que faut-il retenir de l’accord budgétaire?'],\n",
       " ['https://www.lesoir.be/470587/article/2022-10-11/bruxelles-des-changements-autour-de-la-place-flagey-des-la-fin-du-mois-doctobre',\n",
       "  'Bruxelles: des changements autour de la place Flagey dès la fin du mois d’octobre'],\n",
       " ['https://www.lesoir.be/470596/article/2022-10-11/charbon-ou-nucleaire-greta-thunberg-tranche',\n",
       "  'Charbon ou nucléaire? Greta Thunberg a tranché'],\n",
       " ['https://www.lesoir.be/470610/article/2022-10-11/chaos-migratoire-fedasil-est-contraint-de-laisser-des-ados-la-rue',\n",
       "  'Chaos migratoire: Fedasil est contraint de laisser des ados à la rue']]"
      ]
     },
     "execution_count": 4,
     "metadata": {},
     "output_type": "execute_result"
    }
   ],
   "source": [
    "# Affichage des 10 premières entrées\n",
    "articles[:10]"
   ]
  },
  {
   "cell_type": "markdown",
   "metadata": {},
   "source": [
    "## Création d'un dataframe avec les liens et les titres des articles\n"
   ]
  },
  {
   "cell_type": "code",
   "execution_count": 5,
   "metadata": {},
   "outputs": [
    {
     "data": {
      "text/html": [
       "<div>\n",
       "<style scoped>\n",
       "    .dataframe tbody tr th:only-of-type {\n",
       "        vertical-align: middle;\n",
       "    }\n",
       "\n",
       "    .dataframe tbody tr th {\n",
       "        vertical-align: top;\n",
       "    }\n",
       "\n",
       "    .dataframe thead th {\n",
       "        text-align: right;\n",
       "    }\n",
       "</style>\n",
       "<table border=\"1\" class=\"dataframe\">\n",
       "  <thead>\n",
       "    <tr style=\"text-align: right;\">\n",
       "      <th></th>\n",
       "      <th>link</th>\n",
       "      <th>title</th>\n",
       "    </tr>\n",
       "  </thead>\n",
       "  <tbody>\n",
       "    <tr>\n",
       "      <th>0</th>\n",
       "      <td>https://www.lesoir.be/470628/article/2022-10-1...</td>\n",
       "      <td>Décodage\\nLe gouvernement survit à l’épreuve b...</td>\n",
       "    </tr>\n",
       "    <tr>\n",
       "      <th>1</th>\n",
       "      <td>https://www.lesoir.be/470604/article/2022-10-1...</td>\n",
       "      <td>Des dizaines de civils, dont un enfant, exhumé...</td>\n",
       "    </tr>\n",
       "    <tr>\n",
       "      <th>2</th>\n",
       "      <td>https://www.lesoir.be/470526/article/2022-10-1...</td>\n",
       "      <td>Sauvé par des soldats russes et des médecins u...</td>\n",
       "    </tr>\n",
       "    <tr>\n",
       "      <th>3</th>\n",
       "      <td>https://www.lesoir.be/470642/article/2022-10-1...</td>\n",
       "      <td>Un vaisseau de la Nasa a réussi à dévier un as...</td>\n",
       "    </tr>\n",
       "    <tr>\n",
       "      <th>4</th>\n",
       "      <td>https://www.lesoir.be/470641/article/2022-10-1...</td>\n",
       "      <td>Ligue des champions: Hazard titulaire avec le ...</td>\n",
       "    </tr>\n",
       "    <tr>\n",
       "      <th>...</th>\n",
       "      <td>...</td>\n",
       "      <td>...</td>\n",
       "    </tr>\n",
       "    <tr>\n",
       "      <th>77</th>\n",
       "      <td>https://www.lesoir.be/468107/article/2022-09-2...</td>\n",
       "      <td>Habitat durable: vers une «non-intervention ré...</td>\n",
       "    </tr>\n",
       "    <tr>\n",
       "      <th>78</th>\n",
       "      <td>https://www.lesoir.be/468412/article/2022-09-2...</td>\n",
       "      <td>Un pacte à la consommation pour dépasser la cr...</td>\n",
       "    </tr>\n",
       "    <tr>\n",
       "      <th>79</th>\n",
       "      <td>https://www.lesoir.be/468413/article/2022-09-2...</td>\n",
       "      <td>Au FIFF, à la découverte des jeunes talents de...</td>\n",
       "    </tr>\n",
       "    <tr>\n",
       "      <th>80</th>\n",
       "      <td>https://www.lesoir.be/468491/article/2022-09-3...</td>\n",
       "      <td>Les distributeurs automatiques de pizzas s’imp...</td>\n",
       "    </tr>\n",
       "    <tr>\n",
       "      <th>81</th>\n",
       "      <td>https://www.lesoir.be/468306/article/2022-09-2...</td>\n",
       "      <td>La brique de jus, pas si saine qu’elle ne paraît</td>\n",
       "    </tr>\n",
       "  </tbody>\n",
       "</table>\n",
       "<p>82 rows × 2 columns</p>\n",
       "</div>"
      ],
      "text/plain": [
       "                                                 link  \\\n",
       "0   https://www.lesoir.be/470628/article/2022-10-1...   \n",
       "1   https://www.lesoir.be/470604/article/2022-10-1...   \n",
       "2   https://www.lesoir.be/470526/article/2022-10-1...   \n",
       "3   https://www.lesoir.be/470642/article/2022-10-1...   \n",
       "4   https://www.lesoir.be/470641/article/2022-10-1...   \n",
       "..                                                ...   \n",
       "77  https://www.lesoir.be/468107/article/2022-09-2...   \n",
       "78  https://www.lesoir.be/468412/article/2022-09-2...   \n",
       "79  https://www.lesoir.be/468413/article/2022-09-2...   \n",
       "80  https://www.lesoir.be/468491/article/2022-09-3...   \n",
       "81  https://www.lesoir.be/468306/article/2022-09-2...   \n",
       "\n",
       "                                                title  \n",
       "0   Décodage\\nLe gouvernement survit à l’épreuve b...  \n",
       "1   Des dizaines de civils, dont un enfant, exhumé...  \n",
       "2   Sauvé par des soldats russes et des médecins u...  \n",
       "3   Un vaisseau de la Nasa a réussi à dévier un as...  \n",
       "4   Ligue des champions: Hazard titulaire avec le ...  \n",
       "..                                                ...  \n",
       "77  Habitat durable: vers une «non-intervention ré...  \n",
       "78  Un pacte à la consommation pour dépasser la cr...  \n",
       "79  Au FIFF, à la découverte des jeunes talents de...  \n",
       "80  Les distributeurs automatiques de pizzas s’imp...  \n",
       "81   La brique de jus, pas si saine qu’elle ne paraît  \n",
       "\n",
       "[82 rows x 2 columns]"
      ]
     },
     "execution_count": 5,
     "metadata": {},
     "output_type": "execute_result"
    }
   ],
   "source": [
    "df = pd.DataFrame(articles, columns=['link', 'title'])\n",
    "df"
   ]
  },
  {
   "cell_type": "code",
   "execution_count": 6,
   "metadata": {},
   "outputs": [],
   "source": [
    "# Sauvegarde du dataframe dans un fichier csv\n",
    "df.to_csv(f\"../data/lesoir_{time.strftime('%Y%m%d')}.csv\", index=False)"
   ]
  },
  {
   "cell_type": "markdown",
   "metadata": {},
   "source": [
    "## Téléchargement d'un article et affichage du texte"
   ]
  },
  {
   "cell_type": "code",
   "execution_count": 7,
   "metadata": {},
   "outputs": [
    {
     "name": "stdout",
     "output_type": "stream",
     "text": [
      "Le gouvernement survit à l’épreuve budgétaire, De Croo se relance\n",
      "==================================\n",
      "Le gouvernement Vivaldi conclut un accord budgétaire 2023-2024. Alexander De Croo décrit un exécutif qui « protège ». Il s’accroche et se relance après les rumeurs, cet été, de crise politique. Les partis de la Vivaldi et leurs présidents repartent, eux, sans trophée.\n",
      "==================================\n",
      "  L e Seize communiquait intensément mardi matin, avant le discours du Premier ministre à la Chambre : « Le maître mot de cet exercice budgétaire, c’est “protéger”\n",
      "                     ». Alexander De Croo s’exécutera devant les élus de la nation quelques heures plus tard. Il conjuguera de toutes les façons : on protège les familles en prolongeant le paquet de base énergie ; on protège les entreprises en baissant les charges sociales ; on protège notre pays en Europe par temps de guerre en réinvestissant dans l’armée ; on protège notre Etat contre les narcotrafiquants ; on en oublie… Chacun jugera, mais le concept est là. \n",
      "\n"
     ]
    }
   ],
   "source": [
    "# Récupération du premier lien du dataframe\n",
    "article_url = df.iloc[0][0]\n",
    "\n",
    "# Ouverture de la page\n",
    "response = requests.get(article_url, headers=headers)\n",
    "soup = BeautifulSoup(response.text, 'html.parser')\n",
    "\n",
    "# Parsing du contenu\n",
    "title = soup.find(\"h1\").get_text(separator=' ')\n",
    "chapo = soup.find(\"r-article--chapo\").get_text(separator=' ')\n",
    "content = soup.find(\"r-article--section\").get_text(separator=' ')\n",
    "\n",
    "print(title)\n",
    "print(\"==================================\")\n",
    "print(chapo)\n",
    "print(\"==================================\")\n",
    "print(content)"
   ]
  },
  {
   "cell_type": "markdown",
   "metadata": {},
   "source": [
    "### Nettoyage du texte à l'aide d'expressions régulières"
   ]
  },
  {
   "cell_type": "code",
   "execution_count": null,
   "metadata": {},
   "outputs": [],
   "source": [
    "# Suppression de tout ce qui se trouve entre parenthèses\n",
    "clean_content = re.sub(\"\\([^\\)]+\\)\", \" \", content)\n",
    "# Suppression des espaces multiples\n",
    "clean_content = re.sub(\"\\s+\", \" \", clean_content)\n",
    "\n",
    "print(content)\n",
    "print(\"==================================\")\n",
    "print(clean_content)\n"
   ]
  },
  {
   "cell_type": "markdown",
   "metadata": {},
   "source": [
    "### Création d'un fichier avec le contenu de l'article\n"
   ]
  },
  {
   "cell_type": "code",
   "execution_count": null,
   "metadata": {},
   "outputs": [],
   "source": [
    "with open(\"../data/lesoir_example.txt\", \"w\") as writer:\n",
    "    writer.write(f\"{title}\\n\\n{chapo}\\n\\n{clean_content}\")"
   ]
  },
  {
   "cell_type": "markdown",
   "metadata": {},
   "source": [
    "## Pour en savoir plus"
   ]
  },
  {
   "cell_type": "markdown",
   "metadata": {},
   "source": [
    "- Le web scraping avec Python: https://realpython.com/beautiful-soup-web-scraper-python/\n",
    "- Tutoriel sur les expressions régulières: https://www.w3schools.com/python/python_regex.asp"
   ]
  }
 ],
 "metadata": {
  "kernelspec": {
   "display_name": "Python 3.10.7 ('tac_venv': venv)",
   "language": "python",
   "name": "python3"
  },
  "language_info": {
   "codemirror_mode": {
    "name": "ipython",
    "version": 3
   },
   "file_extension": ".py",
   "mimetype": "text/x-python",
   "name": "python",
   "nbconvert_exporter": "python",
   "pygments_lexer": "ipython3",
   "version": "3.10.7"
  },
  "vscode": {
   "interpreter": {
    "hash": "fc4111ba5b4dc9a0f40c20f04f531195302551394a5b81f5296f1ed3661613e4"
   }
  }
 },
 "nbformat": 4,
 "nbformat_minor": 4
}
