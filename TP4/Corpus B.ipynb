{
 "cells": [
  {
   "cell_type": "markdown",
   "metadata": {},
   "source": [
    "# Analyse du corpus B (Le Vingtième Siècle 1890-1940)"
   ]
  },
  {
   "cell_type": "markdown",
   "metadata": {},
   "source": [
    "Le corpus B correspond au fichier \"txt2\""
   ]
  },
  {
   "cell_type": "markdown",
   "metadata": {},
   "source": [
    "### Imports"
   ]
  },
  {
   "cell_type": "code",
   "execution_count": 2,
   "metadata": {},
   "outputs": [],
   "source": [
    "import os\n",
    "import textract"
   ]
  },
  {
   "cell_type": "code",
   "execution_count": 3,
   "metadata": {},
   "outputs": [],
   "source": [
    "from collections import defaultdict\n",
    "import os\n",
    "\n",
    "import matplotlib.pyplot as plt\n",
    "import numpy as np"
   ]
  },
  {
   "cell_type": "code",
   "execution_count": 4,
   "metadata": {},
   "outputs": [
    {
     "name": "stderr",
     "output_type": "stream",
     "text": [
      "[nltk_data] Downloading package stopwords to /Users/laure-\n",
      "[nltk_data]     annemassart/nltk_data...\n",
      "[nltk_data]   Package stopwords is already up-to-date!\n"
     ]
    }
   ],
   "source": [
    "import nltk\n",
    "nltk.download('stopwords')\n",
    "from nltk.corpus import stopwords"
   ]
  },
  {
   "cell_type": "markdown",
   "metadata": {},
   "source": [
    "### Vérifications diverses"
   ]
  },
  {
   "cell_type": "code",
   "execution_count": 5,
   "metadata": {},
   "outputs": [
    {
     "data": {
      "text/plain": [
       "['KB_JB729_1933-04-21_01-00008.txt',\n",
       " 'KB_JB729_1913-04-23_01-00004.txt',\n",
       " 'KB_JB729_1903-09-02_01-00003.txt',\n",
       " 'KB_JB729_1933-04-26_01-00008.txt',\n",
       " 'KB_JB729_1911-11-19_01-00002.txt',\n",
       " 'KB_JB729_1908-05-01_01-00002.txt',\n",
       " 'KB_JB729_1925-11-05_01-00002.txt',\n",
       " 'KB_JB729_1938-11-03_01-00004.txt',\n",
       " 'KB_JB729_1923-04-15_01-00004.txt',\n",
       " 'KB_JB729_1925-05-01_01-00001.txt']"
      ]
     },
     "execution_count": 5,
     "metadata": {},
     "output_type": "execute_result"
    }
   ],
   "source": [
    "txt2_path = '../data/txt2'\n",
    "\n",
    "txts = []\n",
    "for f in os.listdir(txt2_path):\n",
    "    if os.path.isfile(os.path.join(txt2_path, f)):\n",
    "        txts.append(f)\n",
    "txts[:10]"
   ]
  },
  {
   "cell_type": "code",
   "execution_count": 6,
   "metadata": {},
   "outputs": [
    {
     "data": {
      "text/plain": [
       "501"
      ]
     },
     "execution_count": 6,
     "metadata": {},
     "output_type": "execute_result"
    }
   ],
   "source": [
    "path = \"../data/txt2/\"\n",
    "files = sorted(os.listdir(path))\n",
    "len(files)"
   ]
  },
  {
   "cell_type": "markdown",
   "metadata": {},
   "source": [
    "### Visualiser le nombre de documents par mois"
   ]
  },
  {
   "cell_type": "code",
   "execution_count": 7,
   "metadata": {},
   "outputs": [],
   "source": [
    "all_years = [str(year) for year in range(1887, 1971)]"
   ]
  },
  {
   "cell_type": "code",
   "execution_count": 8,
   "metadata": {},
   "outputs": [
    {
     "name": "stdout",
     "output_type": "stream",
     "text": [
      "Anomalous file: .DS_Store\n"
     ]
    },
    {
     "data": {
      "text/plain": [
       "defaultdict(int,\n",
       "            {'1890s': 44, '1900s': 75, '1910s': 88, '1920s': 214, '1930s': 79})"
      ]
     },
     "execution_count": 8,
     "metadata": {},
     "output_type": "execute_result"
    }
   ],
   "source": [
    "count_decade = defaultdict(int)\n",
    "count_month = defaultdict(int)\n",
    "count_newspapers = defaultdict(int)\n",
    "covered_years = set()\n",
    "\n",
    "for f in files:\n",
    "    if \"_\" in f and f.endswith(\"txt\"):\n",
    "        elems = f.split(\"_\")\n",
    "        \n",
    "        newspaper = elems[1]\n",
    "        \n",
    "        year = elems[2].split(\"-\")[0]\n",
    "        covered_years.add(year)\n",
    "        decade = year[:3] + \"0s\"\n",
    "        \n",
    "        month = int(elems[2].split(\"-\")[1])\n",
    "        \n",
    "        count_decade[decade] += 1\n",
    "        count_newspapers[newspaper] += 1\n",
    "        count_month[month] += 1\n",
    "    else:\n",
    "        print(f\"Anomalous file: {f}\")\n",
    "\n",
    "count_decade"
   ]
  },
  {
   "cell_type": "code",
   "execution_count": 9,
   "metadata": {},
   "outputs": [
    {
     "data": {
      "image/png": "[encoded data removed]",
      "text/plain": [
       "<Figure size 640x480 with 1 Axes>"
      ]
     },
     "metadata": {},
     "output_type": "display_data"
    }
   ],
   "source": [
    "index = np.arange(len(count_month))\n",
    "plt.bar(index, count_month.values())\n",
    "plt.xlabel('Mois')\n",
    "plt.ylabel('# documents')\n",
    "plt.xticks(index, count_month.keys(), fontsize=8, rotation=30)\n",
    "plt.title('Nombre de documents par mois')\n",
    "plt.show()"
   ]
  },
  {
   "cell_type": "markdown",
   "metadata": {},
   "source": [
    "### Fréquence des mots du corpus"
   ]
  },
  {
   "cell_type": "code",
   "execution_count": 10,
   "metadata": {},
   "outputs": [],
   "source": [
    "!cat ../data/txt2/*.txt > ../data/txt2_all.txt"
   ]
  },
  {
   "attachments": {},
   "cell_type": "markdown",
   "metadata": {},
   "source": [
    "Paramétrage des stopwords"
   ]
  },
  {
   "cell_type": "code",
   "execution_count": 54,
   "metadata": {},
   "outputs": [],
   "source": [
    "sw = stopwords.words(\"french\")\n",
    "sw += [\"les\", \"plus\", \"cette\", \"fait\", \"faire\", \"être\", \"deux\", \"comme\", \"dont\", \"tout\", \n",
    "       \"ils\", \"bien\", \"sans\", \"peut\", \"tous\", \"après\", \"ainsi\", \"donc\", \"cet\", \"sous\",\n",
    "       \"celle\", \"entre\", \"encore\", \"toutes\", \"pendant\", \"moins\", \"dire\", \"cela\", \"non\",\n",
    "       \"faut\", \"trois\", \"aussi\", \"dit\", \"avoir\", \"doit\", \"contre\", \"depuis\", \"autres\",\n",
    "       \"van\", \"het\", \"autre\", \"jusqu\", \"bruxelles\", \"rue\", \"pays\", \"centimes\", \n",
    "       \"sables\", \"vente\", \"heures\", \"grand\", \"leurs\", \"jour\", \"très\", \"peu\", \"quelques\", \"toutes\",\n",
    "       \"elles\", \"temps\", \"an\", \"ans\", \"toute\", \"elles\", \"temps\", \"belgique\", \"saint\", \"vie\", \"grande\", \"point\", \"quand\", \"très\",\n",
    "       \"fois\", \"question\", \"mois\", \"lieu\", \"ceux\", \"rien\", \"toujours\", \"mme\", \"avant\", \"hui\", \"chez\",\n",
    "       \"celui\", \"déjà\", \"aujourd\", \"belge\", \"vient\", \"jours\", \"soir\", \"vers\"]\n",
    "sw = set(sw)"
   ]
  },
  {
   "cell_type": "code",
   "execution_count": 55,
   "metadata": {},
   "outputs": [],
   "source": [
    "path = \"../data/txt2_all.txt\"\n",
    "limit = 10**8\n",
    "\n",
    "with open(path, 'r', encoding='utf-8') as f:\n",
    "    text = f.read()[:limit]"
   ]
  },
  {
   "cell_type": "code",
   "execution_count": 56,
   "metadata": {},
   "outputs": [
    {
     "name": "stdout",
     "output_type": "stream",
     "text": [
      "3813847 words found\n"
     ]
    }
   ],
   "source": [
    "words = nltk.wordpunct_tokenize(text)\n",
    "print(f\"{len(words)} words found\")"
   ]
  },
  {
   "cell_type": "code",
   "execution_count": 57,
   "metadata": {},
   "outputs": [
    {
     "name": "stdout",
     "output_type": "stream",
     "text": [
      "1331264 words kept (177726 different word forms)\n"
     ]
    }
   ],
   "source": [
    "kept = [w.lower() for w in words if len(w) > 2 and w.isalpha() and w.lower() not in sw]\n",
    "voc = set(kept)\n",
    "print(f\"{len(kept)} words kept ({len(voc)} different word forms)\")"
   ]
  },
  {
   "cell_type": "code",
   "execution_count": 58,
   "metadata": {},
   "outputs": [
    {
     "data": {
      "image/png": "[encoded data removed]",
      "text/plain": [
       "<Figure size 640x480 with 1 Axes>"
      ]
     },
     "metadata": {},
     "output_type": "display_data"
    },
    {
     "data": {
      "text/plain": [
       "<AxesSubplot: xlabel='Samples', ylabel='Cumulative Counts'>"
      ]
     },
     "execution_count": 58,
     "metadata": {},
     "output_type": "execute_result"
    }
   ],
   "source": [
    "fdist = nltk.FreqDist(kept)\n",
    "fdist.most_common(10)\n",
    "\n",
    "n = 15\n",
    "fdist.plot(n, cumulative=True)"
   ]
  },
  {
   "cell_type": "markdown",
   "metadata": {},
   "source": [
    "### Keywords"
   ]
  },
  {
   "cell_type": "code",
   "execution_count": 60,
   "metadata": {},
   "outputs": [],
   "source": [
    "import os\n",
    "import yake"
   ]
  },
  {
   "cell_type": "code",
   "execution_count": 61,
   "metadata": {},
   "outputs": [
    {
     "data": {
      "text/plain": [
       "<yake.yake.KeywordExtractor at 0x1361cf160>"
      ]
     },
     "execution_count": 61,
     "metadata": {},
     "output_type": "execute_result"
    }
   ],
   "source": [
    "kw_extractor = yake.KeywordExtractor(lan=\"fr\", top=50)\n",
    "kw_extractor"
   ]
  },
  {
   "cell_type": "markdown",
   "metadata": {},
   "source": [
    "Extraire les mots-clés"
   ]
  },
  {
   "cell_type": "code",
   "execution_count": 62,
   "metadata": {},
   "outputs": [],
   "source": [
    "keywords = kw_extractor.extract_keywords(text)\n",
    "keywords"
   ]
  },
  {
   "cell_type": "markdown",
   "metadata": {},
   "source": [
    "Extraire les bigrammes"
   ]
  },
  {
   "cell_type": "code",
   "execution_count": null,
   "metadata": {},
   "outputs": [
    {
     "data": {
      "text/plain": [
       "[\"c'est qu'il\",\n",
       " 'Mlle Van',\n",
       " \"qu'il faut\",\n",
       " 'Mme Van',\n",
       " 'Congo belge',\n",
       " 'gouvernement belge',\n",
       " \"cours d'une\",\n",
       " 'jeune fille',\n",
       " 'jeunes filles']"
      ]
     },
     "execution_count": 19,
     "metadata": {},
     "output_type": "execute_result"
    }
   ],
   "source": [
    "kept = []\n",
    "for kw, score in keywords:\n",
    "    words = kw.split()\n",
    "    if len(words) == 2:\n",
    "        kept.append(kw)\n",
    "kept"
   ]
  },
  {
   "cell_type": "markdown",
   "metadata": {},
   "source": [
    "### Sentiment analysis"
   ]
  },
  {
   "cell_type": "code",
   "execution_count": 1,
   "metadata": {},
   "outputs": [],
   "source": [
    "import sys\n",
    "from textblob import Blobber\n",
    "from textblob_fr import PatternTagger, PatternAnalyzer"
   ]
  },
  {
   "cell_type": "code",
   "execution_count": 2,
   "metadata": {},
   "outputs": [],
   "source": [
    "tb = Blobber(pos_tagger=PatternTagger(), analyzer=PatternAnalyzer())\n",
    "\n",
    "def get_sentiment(input_text):\n",
    "    blob = tb(input_text)\n",
    "    polarity, subjectivity = blob.sentiment\n",
    "    polarity_perc = f\"{100*abs(polarity):.0f}\"\n",
    "    subjectivity_perc = f\"{100*subjectivity:.0f}\"\n",
    "    if polarity > 0:\n",
    "        polarity_str = f\"{polarity_perc}% positive\"\n",
    "    elif polarity < 0:\n",
    "        polarity_str = f\"{polarity_perc}% negative\"\n",
    "    else:\n",
    "        polarity_str = \"neutral\"\n",
    "    if subjectivity > 0:\n",
    "        subjectivity_str = f\"{subjectivity}% subjective\"\n",
    "    else:\n",
    "        subjectivity_str = \"perfectly objective\"\n",
    "    print(f\"This text is {polarity_str} and {subjectivity_str}.\")"
   ]
  },
  {
   "cell_type": "code",
   "execution_count": 3,
   "metadata": {},
   "outputs": [
    {
     "name": "stdout",
     "output_type": "stream",
     "text": [
      "This text is neutral and perfectly objective.\n"
     ]
    }
   ],
   "source": [
    "get_sentiment(\"Laissons à chacun sa sphère d'action : la femme au foyer, le mari au forum.\")"
   ]
  },
  {
   "cell_type": "code",
   "execution_count": 4,
   "metadata": {},
   "outputs": [
    {
     "name": "stdout",
     "output_type": "stream",
     "text": [
      "This text is 5% positive and 0.08333333333333333% subjective.\n"
     ]
    }
   ],
   "source": [
    "get_sentiment(\"Toutefois, en vue de priver du droit de suffrage les négresses ignorantes et pour consolider l'influence de la population blanche dans les Antilles anglaises, le législateur bermudais a subordonné l'exercice du suffrage féminin à des conditions de capacité ou de propriété. Seules, les femmes propriétaires ou capacitaires posséderont le bulletin de vote.\")"
   ]
  },
  {
   "cell_type": "markdown",
   "metadata": {},
   "source": [
    "### Word embeddings"
   ]
  },
  {
   "cell_type": "code",
   "execution_count": 5,
   "metadata": {},
   "outputs": [],
   "source": [
    "import sys\n",
    "\n",
    "from gensim.models.phrases import Phrases, Phraser\n",
    "from gensim.models import Word2Vec\n",
    "\n",
    "import nltk\n",
    "from nltk.tokenize import wordpunct_tokenize\n",
    "from unidecode import unidecode"
   ]
  },
  {
   "cell_type": "code",
   "execution_count": 6,
   "metadata": {},
   "outputs": [],
   "source": [
    "class MySentences(object):\n",
    "    \"\"\"Tokenize and Lemmatize sentences\"\"\"\n",
    "    def __init__(self, filename):\n",
    "        self.filename = filename\n",
    "\n",
    "    def __iter__(self):\n",
    "        for line in open(self.filename, encoding='utf-8', errors=\"backslashreplace\"):\n",
    "            yield [unidecode(w.lower()) for w in wordpunct_tokenize(line)]"
   ]
  },
  {
   "cell_type": "code",
   "execution_count": 7,
   "metadata": {},
   "outputs": [],
   "source": [
    "infile = f\"../data/txt2_all.txt\"\n",
    "sentences = MySentences(infile)"
   ]
  },
  {
   "cell_type": "code",
   "execution_count": 8,
   "metadata": {},
   "outputs": [],
   "source": [
    "bigram_phrases = Phrases(sentences)\n",
    "bigram_phraser = Phraser(phrases_model=bigram_phrases)\n",
    "\n",
    "trigram_phrases = Phrases(bigram_phraser[sentences])\n",
    "trigram_phraser = Phraser(phrases_model=trigram_phrases)"
   ]
  },
  {
   "cell_type": "code",
   "execution_count": 9,
   "metadata": {},
   "outputs": [],
   "source": [
    "corpus = list(trigram_phraser[bigram_phraser[sentences]])"
   ]
  },
  {
   "cell_type": "code",
   "execution_count": 16,
   "metadata": {},
   "outputs": [
    {
     "name": "stdout",
     "output_type": "stream",
     "text": [
      "CPU times: user 4.51 s, sys: 191 ms, total: 4.71 s\n",
      "Wall time: 4.87 s\n"
     ]
    }
   ],
   "source": [
    "%%time\n",
    "model = Word2Vec(\n",
    "    corpus, \n",
    "    vector_size=32, \n",
    "    window=15,\n",
    "    min_count=1,\n",
    "    workers=5, \n",
    "    epochs=5 \n",
    ")"
   ]
  },
  {
   "cell_type": "code",
   "execution_count": 17,
   "metadata": {},
   "outputs": [],
   "source": [
    "outfile = f\"../data/txt2.model\"\n",
    "model.save(outfile)\n",
    "\n",
    "model = Word2Vec.load(\"../data/txt2.model\")"
   ]
  },
  {
   "cell_type": "code",
   "execution_count": 18,
   "metadata": {},
   "outputs": [
    {
     "data": {
      "text/plain": [
       "-0.014431402"
      ]
     },
     "execution_count": 18,
     "metadata": {},
     "output_type": "execute_result"
    }
   ],
   "source": [
    "model.wv.similarity(\"femme\", \"feministe\")"
   ]
  },
  {
   "cell_type": "code",
   "execution_count": 19,
   "metadata": {},
   "outputs": [
    {
     "data": {
      "text/plain": [
       "[('importuns', 0.6981754899024963),\n",
       " ('declamation', 0.6762075424194336),\n",
       " ('ieajite', 0.667377233505249),\n",
       " ('rendra_compte', 0.66385418176651),\n",
       " ('buer', 0.6490710377693176),\n",
       " ('daa', 0.6445857286453247),\n",
       " ('1989', 0.6422110795974731),\n",
       " ('jouglet', 0.6334922313690186),\n",
       " ('on_constate', 0.6307874321937561),\n",
       " ('ratline', 0.6279908418655396),\n",
       " ('elisabethviihe', 0.6230916976928711),\n",
       " ('cnburg', 0.6214374303817749),\n",
       " ('sgin', 0.621060311794281),\n",
       " ('touches', 0.619536817073822),\n",
       " ('gnature', 0.6189436316490173),\n",
       " ('mafin', 0.6152539253234863),\n",
       " ('paulette', 0.614209771156311),\n",
       " ('plajis', 0.6094908714294434),\n",
       " ('ephemeride', 0.6094379425048828),\n",
       " ('fameliques', 0.6093229651451111),\n",
       " ('iieer', 0.6082315444946289),\n",
       " ('aivez', 0.6033164262771606),\n",
       " ('exaspere', 0.6029044985771179),\n",
       " ('leyds', 0.6017652153968811),\n",
       " ('lachambre', 0.6006029844284058),\n",
       " ('seivi', 0.5997408628463745),\n",
       " ('pohoska', 0.5985819101333618),\n",
       " ('paoletti', 0.5968204736709595),\n",
       " ('moss', 0.5954824090003967),\n",
       " ('scaphandre', 0.5951982736587524),\n",
       " ('harry', 0.5951078534126282),\n",
       " ('immensement', 0.5949495434761047),\n",
       " ('marchait', 0.5940404534339905),\n",
       " ('hitele', 0.5940287709236145),\n",
       " ('barren', 0.5935682654380798),\n",
       " ('banquot', 0.5925180315971375),\n",
       " ('suppleante', 0.5912311673164368),\n",
       " ('tblaaiiiiminli', 0.58817458152771),\n",
       " ('jession', 0.5877003073692322),\n",
       " ('nouvel_ordre', 0.5864356756210327),\n",
       " ('bourgn', 0.5862842202186584),\n",
       " ('jessal', 0.5859786868095398),\n",
       " ('affrontant', 0.5837826728820801),\n",
       " ('pide', 0.5833367705345154),\n",
       " ('juhm', 0.5832528471946716),\n",
       " ('diyjour', 0.5815873146057129),\n",
       " ('doch', 0.5806019902229309),\n",
       " ('papales', 0.5789400935173035),\n",
       " ('effrontement', 0.5786578059196472),\n",
       " ('brcma', 0.5782594680786133)]"
      ]
     },
     "execution_count": 19,
     "metadata": {},
     "output_type": "execute_result"
    }
   ],
   "source": [
    "model.wv.most_similar(\"femme\", topn=50)"
   ]
  }
 ],
 "metadata": {
  "kernelspec": {
   "display_name": "Python 3.10.7 ('tac_venv': venv)",
   "language": "python",
   "name": "python3"
  },
  "language_info": {
   "codemirror_mode": {
    "name": "ipython",
    "version": 3
   },
   "file_extension": ".py",
   "mimetype": "text/x-python",
   "name": "python",
   "nbconvert_exporter": "python",
   "pygments_lexer": "ipython3",
   "version": "3.10.7"
  },
  "orig_nbformat": 4,
  "vscode": {
   "interpreter": {
    "hash": "fc4111ba5b4dc9a0f40c20f04f531195302551394a5b81f5296f1ed3661613e4"
   }
  }
 },
 "nbformat": 4,
 "nbformat_minor": 2
}
