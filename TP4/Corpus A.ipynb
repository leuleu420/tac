{
 "cells": [
  {
   "cell_type": "markdown",
   "metadata": {},
   "source": [
    "# Analyse du corpus A (Le Peuple 1890-1940)"
   ]
  },
  {
   "cell_type": "markdown",
   "metadata": {},
   "source": [
    "Le corpus A correspond au fichier \"txt1\""
   ]
  },
  {
   "cell_type": "markdown",
   "metadata": {},
   "source": [
    "### Imports"
   ]
  },
  {
   "cell_type": "code",
   "execution_count": 1,
   "metadata": {},
   "outputs": [],
   "source": [
    "import os\n",
    "import textract"
   ]
  },
  {
   "cell_type": "code",
   "execution_count": 2,
   "metadata": {},
   "outputs": [],
   "source": [
    "from collections import defaultdict\n",
    "import os\n",
    "\n",
    "import matplotlib.pyplot as plt\n",
    "import numpy as np"
   ]
  },
  {
   "cell_type": "code",
   "execution_count": 3,
   "metadata": {},
   "outputs": [
    {
     "name": "stderr",
     "output_type": "stream",
     "text": [
      "[nltk_data] Downloading package stopwords to /Users/laure-\n",
      "[nltk_data]     annemassart/nltk_data...\n",
      "[nltk_data]   Package stopwords is already up-to-date!\n"
     ]
    }
   ],
   "source": [
    "import nltk\n",
    "nltk.download('stopwords')\n",
    "from nltk.corpus import stopwords"
   ]
  },
  {
   "cell_type": "markdown",
   "metadata": {},
   "source": [
    "### Vérifications diverses"
   ]
  },
  {
   "cell_type": "code",
   "execution_count": 4,
   "metadata": {},
   "outputs": [
    {
     "data": {
      "text/plain": [
       "['KB_JB837_1900-06-07_01-00004.txt',\n",
       " 'KB_JB837_1899-07-11_01-00004.txt',\n",
       " 'KB_JB837_1925-03-08_01-00001.txt',\n",
       " 'KB_JB837_1898-11-25_01-00004.txt',\n",
       " 'KB_JB837_1920-06-22_01-00003.txt',\n",
       " 'KB_JB837_1902-02-28_01-00004.txt',\n",
       " 'KB_JB837_1920-12-17_01-00002.txt',\n",
       " 'KB_JB837_1898-08-30_01-00004.txt',\n",
       " 'KB_JB837_1898-01-18_01-00004.txt',\n",
       " 'KB_JB837_1899-07-17_01-00003.txt']"
      ]
     },
     "execution_count": 4,
     "metadata": {},
     "output_type": "execute_result"
    }
   ],
   "source": [
    "txt1_path = '../data/txt1'\n",
    "\n",
    "txts = []\n",
    "for f in os.listdir(txt1_path):\n",
    "    if os.path.isfile(os.path.join(txt1_path, f)):\n",
    "        txts.append(f)\n",
    "txts[:10]"
   ]
  },
  {
   "cell_type": "code",
   "execution_count": 5,
   "metadata": {},
   "outputs": [
    {
     "data": {
      "text/plain": [
       "503"
      ]
     },
     "execution_count": 5,
     "metadata": {},
     "output_type": "execute_result"
    }
   ],
   "source": [
    "path = \"../data/txt1/\"\n",
    "files = sorted(os.listdir(path))\n",
    "len(files)"
   ]
  },
  {
   "cell_type": "markdown",
   "metadata": {},
   "source": [
    "### Visualiser le nombre de documents par mois"
   ]
  },
  {
   "cell_type": "code",
   "execution_count": 6,
   "metadata": {},
   "outputs": [],
   "source": [
    "all_years = [str(year) for year in range(1887, 1971)]"
   ]
  },
  {
   "cell_type": "code",
   "execution_count": 7,
   "metadata": {},
   "outputs": [
    {
     "name": "stdout",
     "output_type": "stream",
     "text": [
      "Anomalous file: .DS_Store\n",
      "Anomalous file: 1939.txt\n"
     ]
    },
    {
     "ename": "IndexError",
     "evalue": "list index out of range",
     "output_type": "error",
     "traceback": [
      "\u001b[0;31m---------------------------------------------------------------------------\u001b[0m",
      "\u001b[0;31mIndexError\u001b[0m                                Traceback (most recent call last)",
      "Cell \u001b[0;32mIn [7], line 12\u001b[0m\n\u001b[1;32m      8\u001b[0m elems \u001b[39m=\u001b[39m f\u001b[39m.\u001b[39msplit(\u001b[39m\"\u001b[39m\u001b[39m_\u001b[39m\u001b[39m\"\u001b[39m)\n\u001b[1;32m     10\u001b[0m newspaper \u001b[39m=\u001b[39m elems[\u001b[39m1\u001b[39m]\n\u001b[0;32m---> 12\u001b[0m year \u001b[39m=\u001b[39m elems[\u001b[39m2\u001b[39m]\u001b[39m.\u001b[39msplit(\u001b[39m\"\u001b[39m\u001b[39m-\u001b[39m\u001b[39m\"\u001b[39m)[\u001b[39m0\u001b[39m]\n\u001b[1;32m     13\u001b[0m covered_years\u001b[39m.\u001b[39madd(year)\n\u001b[1;32m     14\u001b[0m decade \u001b[39m=\u001b[39m year[:\u001b[39m3\u001b[39m] \u001b[39m+\u001b[39m \u001b[39m\"\u001b[39m\u001b[39m0s\u001b[39m\u001b[39m\"\u001b[39m\n",
      "\u001b[0;31mIndexError\u001b[0m: list index out of range"
     ]
    }
   ],
   "source": [
    "count_decade = defaultdict(int)\n",
    "count_month = defaultdict(int)\n",
    "count_newspapers = defaultdict(int)\n",
    "covered_years = set()\n",
    "\n",
    "for f in files:\n",
    "    if \"_\" in f and f.endswith(\"txt\"):\n",
    "        elems = f.split(\"_\")\n",
    "        \n",
    "        newspaper = elems[1]\n",
    "        \n",
    "        year = elems[2].split(\"-\")[0]\n",
    "        covered_years.add(year)\n",
    "        decade = year[:3] + \"0s\"\n",
    "        \n",
    "        month = int(elems[2].split(\"-\")[1])\n",
    "        \n",
    "        count_decade[decade] += 1\n",
    "        count_newspapers[newspaper] += 1\n",
    "        count_month[month] += 1\n",
    "    else:\n",
    "        print(f\"Anomalous file: {f}\")\n",
    "\n",
    "count_decade"
   ]
  },
  {
   "cell_type": "code",
   "execution_count": 8,
   "metadata": {},
   "outputs": [
    {
     "data": {
      "image/png": "[encoded data removed]",
      "text/plain": [
       "<Figure size 640x480 with 1 Axes>"
      ]
     },
     "metadata": {},
     "output_type": "display_data"
    }
   ],
   "source": [
    "index = np.arange(len(count_month))\n",
    "plt.bar(index, count_month.values())\n",
    "plt.xlabel('Mois')\n",
    "plt.ylabel('# documents')\n",
    "plt.xticks(index, count_month.keys(), fontsize=8, rotation=30)\n",
    "plt.title('Nombre de documents par mois')\n",
    "plt.show()"
   ]
  },
  {
   "cell_type": "markdown",
   "metadata": {},
   "source": [
    "### Fréquence des mots du corpus"
   ]
  },
  {
   "cell_type": "code",
   "execution_count": 9,
   "metadata": {},
   "outputs": [],
   "source": [
    "!cat ../data/txt1/*.txt > ../data/txt1_all.txt"
   ]
  },
  {
   "attachments": {},
   "cell_type": "markdown",
   "metadata": {},
   "source": [
    "Paramétrage des stopwords"
   ]
  },
  {
   "cell_type": "code",
   "execution_count": 10,
   "metadata": {},
   "outputs": [],
   "source": [
    "sw = stopwords.words(\"french\")\n",
    "sw += [\"les\", \"plus\", \"cette\", \"fait\", \"faire\", \"être\", \"deux\", \"comme\", \"dont\", \"tout\", \n",
    "       \"ils\", \"bien\", \"sans\", \"peut\", \"tous\", \"après\", \"ainsi\", \"donc\", \"cet\", \"sous\",\n",
    "       \"celle\", \"entre\", \"encore\", \"toutes\", \"pendant\", \"moins\", \"dire\", \"cela\", \"non\",\n",
    "       \"faut\", \"trois\", \"aussi\", \"dit\", \"avoir\", \"doit\", \"contre\", \"depuis\", \"autres\",\n",
    "       \"van\", \"het\", \"autre\", \"jusqu\", \"bruxelles\", \"rue\", \"pays\", \"centimes\", \n",
    "       \"sables\", \"vente\", \"heures\", \"grand\", \"leurs\", \"jour\", \"maison\", \"très\", \"ans\", \"quelques\",\n",
    "       \"bon\", \"toute\", \"vient\", \"chez\", \"cent\", \"général\", \"Belgique\", \"belgique\", \"peu\", \"chambre\"]\n",
    "sw = set(sw)"
   ]
  },
  {
   "cell_type": "code",
   "execution_count": null,
   "metadata": {},
   "outputs": [],
   "source": [
    "path = \"../data/txt1_all.txt\"\n",
    "limit = 10**8\n",
    "\n",
    "with open(path, 'r', encoding='utf-8') as f:\n",
    "    text = f.read()[:limit]"
   ]
  },
  {
   "cell_type": "code",
   "execution_count": null,
   "metadata": {},
   "outputs": [
    {
     "name": "stdout",
     "output_type": "stream",
     "text": [
      "2792140 words found\n"
     ]
    }
   ],
   "source": [
    "words = nltk.wordpunct_tokenize(text)\n",
    "print(f\"{len(words)} words found\")"
   ]
  },
  {
   "cell_type": "code",
   "execution_count": null,
   "metadata": {},
   "outputs": [
    {
     "name": "stdout",
     "output_type": "stream",
     "text": [
      "985105 words kept (171093 different word forms)\n"
     ]
    }
   ],
   "source": [
    "kept = [w.lower() for w in words if len(w) > 2 and w.isalpha() and w.lower() not in sw]\n",
    "voc = set(kept)\n",
    "print(f\"{len(kept)} words kept ({len(voc)} different word forms)\")"
   ]
  },
  {
   "cell_type": "code",
   "execution_count": null,
   "metadata": {},
   "outputs": [
    {
     "data": {
      "image/png": "[encoded data removed]",
      "text/plain": [
       "<Figure size 640x480 with 1 Axes>"
      ]
     },
     "metadata": {},
     "output_type": "display_data"
    },
    {
     "data": {
      "text/plain": [
       "<AxesSubplot: xlabel='Samples', ylabel='Cumulative Counts'>"
      ]
     },
     "execution_count": 54,
     "metadata": {},
     "output_type": "execute_result"
    }
   ],
   "source": [
    "fdist = nltk.FreqDist(kept)\n",
    "fdist.most_common(10)\n",
    "\n",
    "n = 15\n",
    "fdist.plot(n, cumulative=True)"
   ]
  },
  {
   "cell_type": "markdown",
   "metadata": {},
   "source": [
    "### Keywords"
   ]
  },
  {
   "cell_type": "code",
   "execution_count": null,
   "metadata": {},
   "outputs": [],
   "source": [
    "import os\n",
    "import yake"
   ]
  },
  {
   "cell_type": "code",
   "execution_count": null,
   "metadata": {},
   "outputs": [
    {
     "data": {
      "text/plain": [
       "<yake.yake.KeywordExtractor at 0x1255665f0>"
      ]
     },
     "execution_count": 45,
     "metadata": {},
     "output_type": "execute_result"
    }
   ],
   "source": [
    "kw_extractor = yake.KeywordExtractor(lan=\"fr\", top=50)\n",
    "kw_extractor"
   ]
  },
  {
   "cell_type": "markdown",
   "metadata": {},
   "source": [
    "Extraire les mots-clés"
   ]
  },
  {
   "cell_type": "code",
   "execution_count": null,
   "metadata": {},
   "outputs": [
    {
     "data": {
      "text/plain": [
       "[('Bruxelles Bruxelles Bruxelles', 1.5387843346461706e-07),\n",
       " ('Bruxelles Prix francs', 3.2761906811330916e-07),\n",
       " ('Parti ouvrier belge', 4.06161323680971e-07),\n",
       " ('Sables BRUXELLES ABONNEMENTS', 6.162202175097227e-07),\n",
       " ('Librairie du Peuple', 6.974085321071588e-07),\n",
       " ('Sables BRUXELLES BELGIQUE', 7.962292799164576e-07),\n",
       " ('Anvers Bruxelles Bruxelles', 9.85445324933438e-07),\n",
       " ('Librairie socialiste', 1.0190143252569067e-06),\n",
       " ('Grand format Prix', 1.0249119184035519e-06),\n",
       " ('PEUPLE Société Coopérative', 1.1505419106461674e-06),\n",
       " ('Bruxelles', 1.1769260497477197e-06),\n",
       " ('Bruxelles Société Coopérative', 1.2291827771472596e-06),\n",
       " ('parti ouvrier', 1.2363520938688793e-06),\n",
       " ('Bruxelles Prix', 1.3428779816643425e-06),\n",
       " ('femmes socialistes', 1.525078494337308e-06),\n",
       " ('rue dea Sables', 1.5272488746818596e-06),\n",
       " ('PEUPLE Rue Joseph', 1.595513632776092e-06),\n",
       " ('Peuple', 1.7073186237439e-06),\n",
       " ('Société coopérative ouvrière', 1.762280108262354e-06),\n",
       " ('Sables Bruxelles', 2.4001651128886112e-06),\n",
       " ('POPULAIRE Société coopérative', 2.4090036844971596e-06),\n",
       " ('Maison du Peuple', 2.4134817389746227e-06),\n",
       " ('prix', 2.4716952608880096e-06),\n",
       " ('Sables BRUXELLES ORGANE', 2.6535994547289703e-06),\n",
       " ('REPRÉSENTANTS Bonne brochure', 2.885133013101939e-06),\n",
       " ('JULES DESTRÉE MEMBRE', 3.0583693972393195e-06),\n",
       " ('journaux lie Peuple', 3.4565171228091692e-06),\n",
       " ('BRUXELLES Bonne brochure', 3.5909693366036856e-06),\n",
       " ('Société coopérative', 3.936618416384465e-06),\n",
       " ('Maison dit Peuple', 4.007829212974989e-06),\n",
       " ('rue Neuve Bruxelles', 4.448234978931714e-06),\n",
       " ('parti ouvrier socialiste', 4.553629623602815e-06),\n",
       " ('sociétés coopératives socialistes', 4.62122052055458e-06),\n",
       " ('Sables', 4.6752833506275505e-06),\n",
       " ('femme', 5.156957697489272e-06),\n",
       " ('femmes', 5.2170567114447725e-06),\n",
       " ('Librairie dit Peuple', 5.46780268967231e-06),\n",
       " ('OUVRIER SOCIALISTE tenu', 6.208032801706675e-06),\n",
       " ('PEUPLE Bonne brochure', 6.302441496116974e-06),\n",
       " ('rue Blaes BRUXELLES', 6.341886807940548e-06),\n",
       " ('rue', 6.348598775376597e-06),\n",
       " (\"c'est\", 6.351313374457766e-06),\n",
       " ('rue Haute BRUXELLES', 6.599970477964506e-06),\n",
       " ('Parti Ouvrier Sommaire', 6.629776842216016e-06),\n",
       " ('pages Prix', 6.639009825600687e-06),\n",
       " ('PARTI OUVRIER Chansons', 6.648959822565585e-06),\n",
       " ('JACQUES GUEUX Grand', 6.661108337380378e-06),\n",
       " ('BRUXELLES Rue Joseph', 6.818209797624249e-06),\n",
       " ('Bonne brochure', 6.8816850859617844e-06),\n",
       " ('LOUIS BERTRAND Membre', 6.9980558900783445e-06)]"
      ]
     },
     "execution_count": 46,
     "metadata": {},
     "output_type": "execute_result"
    }
   ],
   "source": [
    "keywords = kw_extractor.extract_keywords(text)\n",
    "keywords"
   ]
  },
  {
   "cell_type": "markdown",
   "metadata": {},
   "source": [
    "Extraire les bigrammes"
   ]
  },
  {
   "cell_type": "code",
   "execution_count": null,
   "metadata": {},
   "outputs": [
    {
     "data": {
      "text/plain": [
       "['Librairie socialiste',\n",
       " 'parti ouvrier',\n",
       " 'Bruxelles Prix',\n",
       " 'femmes socialistes',\n",
       " 'Sables Bruxelles',\n",
       " 'Société coopérative',\n",
       " 'pages Prix',\n",
       " 'Bonne brochure']"
      ]
     },
     "execution_count": 47,
     "metadata": {},
     "output_type": "execute_result"
    }
   ],
   "source": [
    "kept = []\n",
    "for kw, score in keywords:\n",
    "    words = kw.split()\n",
    "    if len(words) == 2:\n",
    "        kept.append(kw)\n",
    "kept"
   ]
  },
  {
   "attachments": {},
   "cell_type": "markdown",
   "metadata": {},
   "source": [
    "### Reconnaissance d'entités nommées"
   ]
  },
  {
   "cell_type": "code",
   "execution_count": 11,
   "metadata": {},
   "outputs": [],
   "source": [
    "from collections import defaultdict\n",
    "import sys\n",
    "import spacy\n",
    "from spacy.lang.fr.examples import sentences\n",
    "\n",
    "nlp = spacy.load('fr_core_news_md')"
   ]
  },
  {
   "cell_type": "code",
   "execution_count": 12,
   "metadata": {},
   "outputs": [],
   "source": [
    "def clean_text(year, folder=None):\n",
    "    if folder is None:\n",
    "        input_path = f\"txt1_all.txt\"\n",
    "        output_path = f\"txt1_clean.txt\"\n",
    "    else:\n",
    "        input_path = f\"{folder}/txt1_all.txt\"\n",
    "        output_path = f\"{folder}/txt1_clean.txt\"\n",
    "    output = open(output_path, \"w\", encoding='utf-8')\n",
    "    with open(input_path, encoding='utf-8') as f:\n",
    "        text = f.read()\n",
    "        words = nltk.wordpunct_tokenize(text)\n",
    "        kept = [w.lower() for w in words if len(w) > 2 and w.isalpha() and w.lower() not in sw]\n",
    "        kept_string = \" \".join(kept)\n",
    "        output.write(kept_string)\n",
    "    return f'Output has been written in {output_path}!'"
   ]
  },
  {
   "cell_type": "code",
   "execution_count": 17,
   "metadata": {},
   "outputs": [],
   "source": [
    "temp_path= '../data/'\n",
    "n=100000\n",
    "text = open(os.path.join(temp_path, f'txt1_all.txt'), encoding='utf-8').read()[:n]"
   ]
  },
  {
   "cell_type": "code",
   "execution_count": 18,
   "metadata": {},
   "outputs": [
    {
     "name": "stdout",
     "output_type": "stream",
     "text": [
      "CPU times: user 3.85 s, sys: 444 ms, total: 4.3 s\n",
      "Wall time: 4.54 s\n"
     ]
    }
   ],
   "source": [
    "%%time\n",
    "\n",
    "doc = nlp(text)"
   ]
  },
  {
   "cell_type": "code",
   "execution_count": 19,
   "metadata": {},
   "outputs": [],
   "source": [
    "people = defaultdict(int)\n",
    "for ent in doc.ents:\n",
    "    if ent.label_ == \"PER\" and len(ent.text) > 3:\n",
    "        people[ent.text] += 1"
   ]
  },
  {
   "cell_type": "code",
   "execution_count": 20,
   "metadata": {},
   "outputs": [
    {
     "name": "stdout",
     "output_type": "stream",
     "text": [
      "M. Brialmont apparait 5 fois dans le corpus\n",
      "M. Coremans apparait 5 fois dans le corpus\n",
      "M. Woeste apparait 3 fois dans le corpus\n",
      "Gladstone apparait 2 fois dans le corpus\n",
      "Mérode apparait 2 fois dans le corpus\n",
      "Emilie Claeys apparait 2 fois dans le corpus\n",
      "Considérant apparait 2 fois dans le corpus\n",
      "M. Bockstael apparait 2 fois dans le corpus\n",
      "Van Naemen. apparait 2 fois dans le corpus\n",
      "Woeste apparait 2 fois dans le corpus\n",
      "Jules Mansart apparait 2 fois dans le corpus\n",
      "Ponr apparait 2 fois dans le corpus\n",
      "Sophie Bakounine apparait 2 fois dans le corpus\n",
      "Alexander apparait 2 fois dans le corpus\n",
      "Rnbezahl apparait 2 fois dans le corpus\n",
      "dn comte d'Eu apparait 2 fois dans le corpus\n",
      "Souvret apparait 2 fois dans le corpus\n",
      "Mansart apparait 2 fois dans le corpus\n",
      "Alfred Lombard apparait 2 fois dans le corpus\n",
      "Delerue apparait 2 fois dans le corpus\n",
      "Suzanne Fleichmann apparait 2 fois dans le corpus\n",
      "Albertini apparait 2 fois dans le corpus\n",
      "Mme V apparait 2 fois dans le corpus\n",
      "P BUXELLE8 apparait 1 fois dans le corpus\n",
      "rae dos apparait 1 fois dans le corpus\n",
      "M BBUXELLES apparait 1 fois dans le corpus\n",
      "t Cnan apparait 1 fois dans le corpus\n",
      "M oentimss apparait 1 fois dans le corpus\n",
      "fr.j apparait 1 fois dans le corpus\n",
      "L^Des apparait 1 fois dans le corpus\n",
      "vil prix apparait 1 fois dans le corpus\n",
      "Charles Dilke apparait 1 fois dans le corpus\n",
      "Annie Besant apparait 1 fois dans le corpus\n",
      "G. Defnet apparait 1 fois dans le corpus\n",
      "Léon XIII apparait 1 fois dans le corpus\n",
      "Joseph De apparait 1 fois dans le corpus\n",
      "Dèduisrz apparait 1 fois dans le corpus\n",
      "dn chanvre apparait 1 fois dans le corpus\n",
      "dn jnte apparait 1 fois dans le corpus\n",
      "10 h. apparait 1 fois dans le corpus\n",
      "Jacques apparait 1 fois dans le corpus\n",
      "Paul apparait 1 fois dans le corpus\n",
      "M. Richald apparait 1 fois dans le corpus\n",
      "im- plement apparait 1 fois dans le corpus\n",
      "saint Crépin apparait 1 fois dans le corpus\n",
      "R. P. Boom apparait 1 fois dans le corpus\n",
      "Fanfare apparait 1 fois dans le corpus\n",
      "BEIfCB HATAS, 32 apparait 1 fois dans le corpus\n",
      "lureaux apparait 1 fois dans le corpus\n",
      "Jeras apparait 1 fois dans le corpus\n"
     ]
    }
   ],
   "source": [
    "sorted_people = sorted(people.items(), key=lambda kv: kv[1], reverse=True)\n",
    "\n",
    "for person, freq in sorted_people[:50]:\n",
    "    print(f\"{person} apparait {freq} fois dans le corpus\")"
   ]
  },
  {
   "cell_type": "markdown",
   "metadata": {},
   "source": [
    "### Sentiment analysis"
   ]
  },
  {
   "cell_type": "code",
   "execution_count": null,
   "metadata": {},
   "outputs": [],
   "source": [
    "import sys\n",
    "from textblob import Blobber\n",
    "from textblob_fr import PatternTagger, PatternAnalyzer"
   ]
  },
  {
   "cell_type": "code",
   "execution_count": null,
   "metadata": {},
   "outputs": [],
   "source": [
    "tb = Blobber(pos_tagger=PatternTagger(), analyzer=PatternAnalyzer())\n",
    "\n",
    "def get_sentiment(input_text):\n",
    "    blob = tb(input_text)\n",
    "    polarity, subjectivity = blob.sentiment\n",
    "    polarity_perc = f\"{100*abs(polarity):.0f}\"\n",
    "    subjectivity_perc = f\"{100*subjectivity:.0f}\"\n",
    "    if polarity > 0:\n",
    "        polarity_str = f\"{polarity_perc}% positive\"\n",
    "    elif polarity < 0:\n",
    "        polarity_str = f\"{polarity_perc}% negative\"\n",
    "    else:\n",
    "        polarity_str = \"neutral\"\n",
    "    if subjectivity > 0:\n",
    "        subjectivity_str = f\"{subjectivity}% subjective\"\n",
    "    else:\n",
    "        subjectivity_str = \"perfectly objective\"\n",
    "    print(f\"This text is {polarity_str} and {subjectivity_str}.\")"
   ]
  },
  {
   "cell_type": "code",
   "execution_count": null,
   "metadata": {},
   "outputs": [
    {
     "name": "stdout",
     "output_type": "stream",
     "text": [
      "This text is 9% positive and 0.125% subjective.\n"
     ]
    }
   ],
   "source": [
    "get_sentiment(\"A l'usine ou à la fabrique, la femme peut rester douze ou quatorze heures par jour rivée à la chaîne d'un travail souvent homicide. Voyez dans les tissages et dans les fabriques de bougies, les femmes sont sujettes aux maux de tête, aux migraines et aux éblouissements. Chez elles, les attaques de nerfs sont fréquentes, la respiration est courte. Dans les mines, dans les fabriques d'allumettes, les femmes sont plus atteintes encore ; presque toutes avortent ou n'enfantent que des êtres rachitiques, de telle sorte qu'avant de les tuer elles-mêmes, l'industrie a le temps de leur tuer plusieurs enfants.\")"
   ]
  },
  {
   "cell_type": "code",
   "execution_count": null,
   "metadata": {},
   "outputs": [
    {
     "name": "stdout",
     "output_type": "stream",
     "text": [
      "This text is 23% positive and 0.37% subjective.\n"
     ]
    }
   ],
   "source": [
    "get_sentiment(\"Nous sommes tous, dans le parti ouvrier, fort sympathiques au mouvement féministe, mais nous croyons qu'il doit trouver dans la classe populaire son foyer d'activité et de développement. Un grand nombre de dames à Bruxelles ont adhéré au mouvement féministe. Nous rendons hommage au bon mafcif qui les guide, mais qu'il nous soit permis de dire qu'elles font fausse route si elles se bornent à ne voir dans ce mouvement que le côté philanthropique.\")"
   ]
  },
  {
   "cell_type": "markdown",
   "metadata": {},
   "source": [
    "### Word embeddings"
   ]
  },
  {
   "cell_type": "code",
   "execution_count": null,
   "metadata": {},
   "outputs": [],
   "source": [
    "import sys\n",
    "\n",
    "from gensim.models.phrases import Phrases, Phraser\n",
    "from gensim.models import Word2Vec\n",
    "\n",
    "import nltk\n",
    "from nltk.tokenize import wordpunct_tokenize\n",
    "from unidecode import unidecode"
   ]
  },
  {
   "cell_type": "code",
   "execution_count": null,
   "metadata": {},
   "outputs": [],
   "source": [
    "class MySentences(object):\n",
    "    \"\"\"Tokenize and Lemmatize sentences\"\"\"\n",
    "    def __init__(self, filename):\n",
    "        self.filename = filename\n",
    "\n",
    "    def __iter__(self):\n",
    "        for line in open(self.filename, encoding='utf-8', errors=\"backslashreplace\"):\n",
    "            yield [unidecode(w.lower()) for w in wordpunct_tokenize(line)]"
   ]
  },
  {
   "cell_type": "code",
   "execution_count": null,
   "metadata": {},
   "outputs": [],
   "source": [
    "infile = f\"../data/txt1_all.txt\"\n",
    "sentences = MySentences(infile)"
   ]
  },
  {
   "cell_type": "code",
   "execution_count": null,
   "metadata": {},
   "outputs": [],
   "source": [
    "bigram_phrases = Phrases(sentences)\n",
    "bigram_phraser = Phraser(phrases_model=bigram_phrases)\n",
    "\n",
    "trigram_phrases = Phrases(bigram_phraser[sentences])\n",
    "trigram_phraser = Phraser(phrases_model=trigram_phrases)"
   ]
  },
  {
   "cell_type": "code",
   "execution_count": null,
   "metadata": {},
   "outputs": [],
   "source": [
    "corpus = list(trigram_phraser[bigram_phraser[sentences]])"
   ]
  },
  {
   "cell_type": "code",
   "execution_count": null,
   "metadata": {},
   "outputs": [
    {
     "name": "stdout",
     "output_type": "stream",
     "text": [
      "CPU times: user 5.8 s, sys: 298 ms, total: 6.1 s\n",
      "Wall time: 6.32 s\n"
     ]
    }
   ],
   "source": [
    "%%time\n",
    "model = Word2Vec(\n",
    "    corpus, \n",
    "    vector_size=32, \n",
    "    window=1500,\n",
    "    min_count=1,\n",
    "    workers=50, \n",
    "    epochs=5 \n",
    ")"
   ]
  },
  {
   "cell_type": "code",
   "execution_count": null,
   "metadata": {},
   "outputs": [],
   "source": [
    "outfile = f\"../data/txt1.model\"\n",
    "model.save(outfile)\n",
    "\n",
    "model = Word2Vec.load(\"../data/txt1.model\")"
   ]
  },
  {
   "cell_type": "code",
   "execution_count": null,
   "metadata": {},
   "outputs": [
    {
     "data": {
      "text/plain": [
       "0.9925127"
      ]
     },
     "execution_count": 198,
     "metadata": {},
     "output_type": "execute_result"
    }
   ],
   "source": [
    "model.wv.similarity(\"femme\", \"mere\")"
   ]
  },
  {
   "cell_type": "code",
   "execution_count": null,
   "metadata": {},
   "outputs": [
    {
     "data": {
      "text/plain": [
       "[('service', 0.997208833694458),\n",
       " ('etat', 0.9971792101860046),\n",
       " ('ce_jour', 0.9969854354858398),\n",
       " ('dans_toutes', 0.9969186186790466),\n",
       " ('seront', 0.996851921081543),\n",
       " ('industries', 0.9968482255935669),\n",
       " ('occasion', 0.9968013167381287),\n",
       " ('ponr', 0.9967895150184631),\n",
       " ('fr_.;', 0.9967798590660095),\n",
       " ('celle', 0.9967689514160156),\n",
       " ('apres', 0.996740460395813),\n",
       " ('instruments', 0.9967303276062012),\n",
       " ('ce_sont', 0.996685266494751),\n",
       " ('poste', 0.9966773986816406),\n",
       " ('.)', 0.9966408610343933),\n",
       " ('eglise', 0.9966206550598145),\n",
       " ('nouveaux', 0.9966091513633728),\n",
       " ('la_question', 0.9966041445732117),\n",
       " ('es', 0.9966026544570923),\n",
       " ('jour', 0.9966013431549072),\n",
       " ('achete', 0.996597409248352),\n",
       " ('da', 0.9965952038764954),\n",
       " ('q', 0.9965909719467163),\n",
       " ('dont', 0.9965856075286865),\n",
       " ('le_nombre', 0.9965747594833374),\n",
       " ('travailleurs', 0.9965739846229553),\n",
       " ('lutte_entre', 0.9965580701828003),\n",
       " ('re', 0.9965578317642212),\n",
       " ('se_sont', 0.9965486526489258),\n",
       " ('action_politique', 0.996536910533905),\n",
       " ('ses', 0.9965366721153259),\n",
       " ('fer', 0.9965348243713379),\n",
       " ('point', 0.9965314269065857),\n",
       " ('16_aout', 0.9965313076972961),\n",
       " ('brialmont', 0.9965268969535828),\n",
       " ('avait_ete', 0.9965226054191589),\n",
       " ('la_journee', 0.9965211153030396),\n",
       " ('en_ce_moment', 0.9965152740478516),\n",
       " ('minimum', 0.9965136647224426),\n",
       " ('la_suppression', 0.996505618095398),\n",
       " ('ne', 0.9965011477470398),\n",
       " ('anvers', 0.9965003132820129),\n",
       " ('mieux', 0.9964995980262756),\n",
       " ('terre', 0.9964934587478638),\n",
       " ('abbe', 0.9964784979820251),\n",
       " ('sous', 0.9964775443077087),\n",
       " ('3', 0.9964743852615356),\n",
       " ('avoir', 0.9964569807052612),\n",
       " ('elle', 0.9964537620544434),\n",
       " ('quelques_mois', 0.9964503049850464)]"
      ]
     },
     "execution_count": 197,
     "metadata": {},
     "output_type": "execute_result"
    }
   ],
   "source": [
    "model.wv.most_similar(\"femme\", topn=50)"
   ]
  }
 ],
 "metadata": {
  "kernelspec": {
   "display_name": "Python 3.10.7 ('tac_venv': venv)",
   "language": "python",
   "name": "python3"
  },
  "language_info": {
   "codemirror_mode": {
    "name": "ipython",
    "version": 3
   },
   "file_extension": ".py",
   "mimetype": "text/x-python",
   "name": "python",
   "nbconvert_exporter": "python",
   "pygments_lexer": "ipython3",
   "version": "3.10.7"
  },
  "orig_nbformat": 4,
  "vscode": {
   "interpreter": {
    "hash": "fc4111ba5b4dc9a0f40c20f04f531195302551394a5b81f5296f1ed3661613e4"
   }
  }
 },
 "nbformat": 4,
 "nbformat_minor": 2
}
