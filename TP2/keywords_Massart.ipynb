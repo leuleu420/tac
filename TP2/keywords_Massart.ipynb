{
 "cells": [
  {
   "cell_type": "markdown",
   "metadata": {},
   "source": [
    "# Extraction de Keywords"
   ]
  },
  {
   "cell_type": "markdown",
   "metadata": {},
   "source": [
    "## Imports"
   ]
  },
  {
   "cell_type": "code",
   "execution_count": 138,
   "metadata": {},
   "outputs": [],
   "source": [
    "import os\n",
    "import yake"
   ]
  },
  {
   "cell_type": "markdown",
   "metadata": {},
   "source": [
    "## Extraire les mots clés d'un document avec Yake"
   ]
  },
  {
   "cell_type": "markdown",
   "metadata": {},
   "source": [
    "https://github.com/LIAAD/yake"
   ]
  },
  {
   "cell_type": "code",
   "execution_count": 139,
   "metadata": {},
   "outputs": [
    {
     "data": {
      "text/plain": [
       "<yake.yake.KeywordExtractor at 0x10ad38790>"
      ]
     },
     "execution_count": 139,
     "metadata": {},
     "output_type": "execute_result"
    }
   ],
   "source": [
    "# Instantier l'extracteur de mots clés\n",
    "kw_extractor = yake.KeywordExtractor(lan=\"fr\", top=50)\n",
    "kw_extractor"
   ]
  },
  {
   "cell_type": "code",
   "execution_count": 140,
   "metadata": {},
   "outputs": [],
   "source": [
    "# Lister les Fichiers\n",
    "data_path = \"../data/txt/\"\n",
    "files = os.listdir(data_path)"
   ]
  },
  {
   "cell_type": "code",
   "execution_count": 141,
   "metadata": {},
   "outputs": [
    {
     "data": {
      "text/plain": [
       "['KB_JB838_1966-08-30_01-00011.txt',\n",
       " 'KB_JB838_1966-07-12_01-00017.txt',\n",
       " 'KB_JB838_1966-02-26_01-00002.txt',\n",
       " 'KB_JB838_1966-01-29_01-00013.txt',\n",
       " 'KB_JB838_1966-02-16_01-00006.txt',\n",
       " 'KB_JB838_1966-06-18_01-00028.txt',\n",
       " 'KB_JB838_1966-11-20_01-00023.txt',\n",
       " 'KB_JB838_1966-06-08_01-00026.txt',\n",
       " 'KB_JB838_1966-02-10_01-00001.txt',\n",
       " 'KB_JB838_1966-11-26_01-00032.txt',\n",
       " 'KB_JB838_1966-05-21_01-00004.txt',\n",
       " 'KB_JB838_1966-02-12_01-00019.txt',\n",
       " 'KB_JB838_1966-12-08_01-00012.txt',\n",
       " 'KB_JB838_1966-05-24_01-00023.txt',\n",
       " 'KB_JB838_1966-01-08_01-00019.txt',\n",
       " 'KB_JB838_1966-09-29_01-00013.txt',\n",
       " 'KB_JB838_1966-04-09_01-00012.txt',\n",
       " 'KB_JB838_1966-07-17_01-00022.txt',\n",
       " 'KB_JB838_1966-11-01_01-00014.txt',\n",
       " 'KB_JB838_1966-05-21_01-00028.txt',\n",
       " 'KB_JB838_1966-08-21_01-00023.txt',\n",
       " 'KB_JB838_1966-07-15_01-00004.txt',\n",
       " 'KB_JB838_1966-11-17_01-00008.txt',\n",
       " 'KB_JB838_1966-10-09_01-00030.txt',\n",
       " 'KB_JB838_1966-02-27_01-00002.txt',\n",
       " 'KB_JB838_1966-11-17_01-00022.txt',\n",
       " 'KB_JB838_1966-08-07_01-00005.txt',\n",
       " 'KB_JB838_1966-01-29_01-00016.txt',\n",
       " 'KB_JB838_1966-12-09_01-00012.txt',\n",
       " 'KB_JB838_1966-07-23_01-00005.txt',\n",
       " 'KB_JB838_1966-09-02_01-00021.txt',\n",
       " 'KB_JB838_1966-11-19_01-00017.txt',\n",
       " 'KB_JB838_1966-10-20_01-00024.txt',\n",
       " 'KB_JB838_1966-01-22_01-00010.txt',\n",
       " 'KB_JB838_1966-12-15_01-00027.txt',\n",
       " 'KB_JB838_1966-03-26_01-00011.txt',\n",
       " 'KB_JB838_1966-03-26_01-00007.txt',\n",
       " '1966.txt',\n",
       " 'KB_JB838_1966-01-25_01-00013.txt',\n",
       " 'KB_JB838_1966-10-04_01-00018.txt',\n",
       " 'KB_JB838_1966-03-25_01-00026.txt',\n",
       " 'KB_JB838_1966-10-15_01-00004.txt',\n",
       " 'KB_JB838_1966-04-02_01-00005.txt',\n",
       " 'KB_JB838_1966-04-16_01-00017.txt',\n",
       " 'KB_JB838_1966-03-16_01-00007.txt',\n",
       " 'KB_JB838_1966-10-07_01-00015.txt',\n",
       " 'KB_JB838_1966-11-19_01-00010.txt',\n",
       " 'KB_JB838_1966-05-18_01-00008.txt',\n",
       " 'KB_JB838_1966-03-01_01-00020.txt',\n",
       " 'KB_JB838_1966-10-12_01-00015.txt',\n",
       " 'KB_JB838_1966-04-16_01-00014.txt',\n",
       " 'KB_JB838_1966-03-25_01-00021.txt',\n",
       " 'KB_JB838_1966-09-17_01-00019.txt',\n",
       " 'KB_JB838_1966-09-27_01-00021.txt',\n",
       " 'KB_JB838_1966-09-22_01-00006.txt',\n",
       " 'KB_JB838_1966-10-25_01-00013.txt',\n",
       " 'KB_JB838_1966-09-16_01-00023.txt',\n",
       " 'KB_JB838_1966-09-16_01-00006.txt',\n",
       " 'KB_JB838_1966-10-26_01-00016.txt',\n",
       " 'KB_JB838_1966-06-16_01-00010.txt',\n",
       " 'KB_JB838_1966-06-25_01-00021.txt',\n",
       " 'KB_JB838_1966-04-14_01-00016.txt',\n",
       " 'KB_JB838_1966-07-29_01-00019.txt',\n",
       " 'KB_JB838_1966-06-17_01-00002.txt',\n",
       " 'KB_JB838_1966-09-16_01-00011.txt',\n",
       " 'KB_JB838_1966-05-29_01-00013.txt',\n",
       " 'KB_JB838_1966-12-22_01-00001.txt',\n",
       " 'KB_JB838_1966-03-24_01-00015.txt',\n",
       " 'KB_JB838_1966-04-13_01-00015.txt',\n",
       " 'KB_JB838_1966-03-23_01-00014.txt',\n",
       " 'KB_JB838_1966-12-03_01-00024.txt',\n",
       " 'KB_JB838_1966-10-26_01-00014.txt',\n",
       " 'KB_JB838_1966-03-05_01-00024.txt',\n",
       " 'KB_JB838_1966-12-20_01-00023.txt',\n",
       " 'KB_JB838_1966-09-15_01-00008.txt',\n",
       " 'KB_JB838_1966-09-07_01-00021.txt',\n",
       " 'KB_JB838_1966-01-11_01-00006.txt',\n",
       " 'KB_JB838_1966-01-22_01-00023.txt',\n",
       " 'KB_JB838_1966-12-31_01-00016.txt',\n",
       " 'KB_JB838_1966-01-06_01-00009.txt',\n",
       " 'KB_JB838_1966-10-11_01-00014.txt',\n",
       " 'KB_JB838_1966-10-26_01-00007.txt',\n",
       " 'KB_JB838_1966-04-21_01-00030.txt',\n",
       " 'KB_JB838_1966-12-22_01-00007.txt',\n",
       " 'KB_JB838_1966-12-25_01-00013.txt',\n",
       " 'KB_JB838_1966-06-22_01-00025.txt',\n",
       " 'KB_JB838_1966-04-10_01-00027.txt',\n",
       " 'KB_JB838_1966-09-17_01-00005.txt',\n",
       " 'KB_JB838_1966-07-26_01-00013.txt',\n",
       " 'KB_JB838_1966-02-13_01-00001.txt',\n",
       " 'KB_JB838_1966-07-10_01-00004.txt',\n",
       " 'KB_JB838_1966-07-24_01-00009.txt',\n",
       " 'KB_JB838_1966-06-08_01-00007.txt',\n",
       " 'KB_JB838_1966-09-29_01-00026.txt',\n",
       " 'KB_JB838_1966-11-26_01-00016.txt',\n",
       " 'KB_JB838_1966-11-11_01-00013.txt',\n",
       " 'KB_JB838_1966-10-18_01-00024.txt',\n",
       " 'KB_JB838_1966-09-09_01-00004.txt',\n",
       " 'KB_JB838_1966-01-28_01-00018.txt',\n",
       " 'KB_JB838_1966-11-05_01-00016.txt',\n",
       " 'KB_JB838_1966-08-17_01-00017.txt']"
      ]
     },
     "execution_count": 141,
     "metadata": {},
     "output_type": "execute_result"
    }
   ],
   "source": [
    "#Choisir une année\n",
    "\n",
    "year = 1966\n",
    "\n",
    "#Lister les fichiers de cette année\n",
    "\n",
    "data_path = '../data'\n",
    "txt_path = '../data/txt'\n",
    "txts = [f for f in os.listdir(txt_path) if os.path.isfile(os.path.join(txt_path, f)) and str(year) in f]\n",
    "txts"
   ]
  },
  {
   "cell_type": "code",
   "execution_count": 142,
   "metadata": {},
   "outputs": [
    {
     "data": {
      "text/plain": [
       "101"
      ]
     },
     "execution_count": 142,
     "metadata": {},
     "output_type": "execute_result"
    }
   ],
   "source": [
    "#Afficher le nombre de fichiers de 1966\n",
    "\n",
    "len(txts)"
   ]
  },
  {
   "cell_type": "code",
   "execution_count": 143,
   "metadata": {},
   "outputs": [],
   "source": [
    "#Stocker le contenu des fichiers dans une liste\n",
    "\n",
    "content_list = []\n",
    "\n",
    "for txt in txts:\n",
    "    with open(os.path.join(txt_path, txt), 'r', encoding='utf-8') as f:\n",
    "        content_list.append(f.read())"
   ]
  },
  {
   "cell_type": "code",
   "execution_count": 144,
   "metadata": {},
   "outputs": [],
   "source": [
    "#Ecrire tout le contenu dans un fichier temporaire\n",
    "\n",
    "temp_path = '../data/tmp'\n",
    "if not os.path.exists(temp_path):\n",
    "    os.mkdir(temp_path)\n",
    "with open(os.path.join(temp_path, f'{year}.txt'), 'w', encoding='utf-8') as f:\n",
    "    f.write(' '.join(content_list))"
   ]
  },
  {
   "cell_type": "code",
   "execution_count": null,
   "metadata": {},
   "outputs": [],
   "source": [
    "# Extraire les mots clés de ce texte\n",
    "keywords = kw_extractor.extract_keywords(txts)\n",
    "keywords"
   ]
  },
  {
   "cell_type": "code",
   "execution_count": 159,
   "metadata": {},
   "outputs": [
    {
     "data": {
      "text/plain": [
       "[]"
      ]
     },
     "execution_count": 159,
     "metadata": {},
     "output_type": "execute_result"
    }
   ],
   "source": [
    "# Ne garder que les bigrammes\n",
    "kept = []\n",
    "for kw, score in keywords:\n",
    "    words = kw.split()\n",
    "    if len(words) == 2:\n",
    "        kept.append(kw)\n",
    "kept"
   ]
  },
  {
   "cell_type": "code",
   "execution_count": 166,
   "metadata": {},
   "outputs": [
    {
     "name": "stdout",
     "output_type": "stream",
     "text": [
      "['KB_JB838_1966-08-30_01-00011.txt', 'KB_JB838_1966-07-12_01-00017.txt', 'KB_JB838_1966-02-26_01-00002.txt', 'KB_JB838_1966-01-29_01-00013.txt', 'KB_JB838_1966-02-16_01-00006.txt', 'KB_JB838_1966-06-18_01-00028.txt', 'KB_JB838_1966-11-20_01-00023.txt', 'KB_JB838_1966-06-08_01-00026.txt', 'KB_JB838_1966-02-10_01-00001.txt', 'KB_JB838_1966-11-26_01-00032.txt', 'KB_JB838_1966-05-21_01-00004.txt', 'KB_JB838_1966-02-12_01-00019.txt', 'KB_JB838_1966-12-08_01-00012.txt', 'KB_JB838_1966-05-24_01-00023.txt', 'KB_JB838_1966-01-08_01-00019.txt', 'KB_JB838_1966-09-29_01-00013.txt', 'KB_JB838_1966-04-09_01-00012.txt', 'KB_JB838_1966-07-17_01-00022.txt', 'KB_JB838_1966-11-01_01-00014.txt', 'KB_JB838_1966-05-21_01-00028.txt', 'KB_JB838_1966-08-21_01-00023.txt', 'KB_JB838_1966-07-15_01-00004.txt', 'KB_JB838_1966-11-17_01-00008.txt', 'KB_JB838_1966-10-09_01-00030.txt', 'KB_JB838_1966-02-27_01-00002.txt', 'KB_JB838_1966-11-17_01-00022.txt', 'KB_JB838_1966-08-07_01-00005.txt', 'KB_JB838_1966-01-29_01-00016.txt', 'KB_JB838_1966-12-09_01-00012.txt', 'KB_JB838_1966-07-23_01-00005.txt', 'KB_JB838_1966-09-02_01-00021.txt', 'KB_JB838_1966-11-19_01-00017.txt', 'KB_JB838_1966-10-20_01-00024.txt', 'KB_JB838_1966-01-22_01-00010.txt', 'KB_JB838_1966-12-15_01-00027.txt', 'KB_JB838_1966-03-26_01-00011.txt', 'KB_JB838_1966-03-26_01-00007.txt', '1966.txt', 'KB_JB838_1966-01-25_01-00013.txt', 'KB_JB838_1966-10-04_01-00018.txt', 'KB_JB838_1966-03-25_01-00026.txt', 'KB_JB838_1966-10-15_01-00004.txt', 'KB_JB838_1966-04-02_01-00005.txt', 'KB_JB838_1966-04-16_01-00017.txt', 'KB_JB838_1966-03-16_01-00007.txt', 'KB_JB838_1966-10-07_01-00015.txt', 'KB_JB838_1966-11-19_01-00010.txt', 'KB_JB838_1966-05-18_01-00008.txt', 'KB_JB838_1966-03-01_01-00020.txt', 'KB_JB838_1966-10-12_01-00015.txt', 'KB_JB838_1966-04-16_01-00014.txt', 'KB_JB838_1966-03-25_01-00021.txt', 'KB_JB838_1966-09-17_01-00019.txt', 'KB_JB838_1966-09-27_01-00021.txt', 'KB_JB838_1966-09-22_01-00006.txt', 'KB_JB838_1966-10-25_01-00013.txt', 'KB_JB838_1966-09-16_01-00023.txt', 'KB_JB838_1966-09-16_01-00006.txt', 'KB_JB838_1966-10-26_01-00016.txt', 'KB_JB838_1966-06-16_01-00010.txt', 'KB_JB838_1966-06-25_01-00021.txt', 'KB_JB838_1966-04-14_01-00016.txt', 'KB_JB838_1966-07-29_01-00019.txt', 'KB_JB838_1966-06-17_01-00002.txt', 'KB_JB838_1966-09-16_01-00011.txt', 'KB_JB838_1966-05-29_01-00013.txt', 'KB_JB838_1966-12-22_01-00001.txt', 'KB_JB838_1966-03-24_01-00015.txt', 'KB_JB838_1966-04-13_01-00015.txt', 'KB_JB838_1966-03-23_01-00014.txt', 'KB_JB838_1966-12-03_01-00024.txt', 'KB_JB838_1966-10-26_01-00014.txt', 'KB_JB838_1966-03-05_01-00024.txt', 'KB_JB838_1966-12-20_01-00023.txt', 'KB_JB838_1966-09-15_01-00008.txt', 'KB_JB838_1966-09-07_01-00021.txt', 'KB_JB838_1966-01-11_01-00006.txt', 'KB_JB838_1966-01-22_01-00023.txt', 'KB_JB838_1966-12-31_01-00016.txt', 'KB_JB838_1966-01-06_01-00009.txt', 'KB_JB838_1966-10-11_01-00014.txt', 'KB_JB838_1966-10-26_01-00007.txt', 'KB_JB838_1966-04-21_01-00030.txt', 'KB_JB838_1966-12-22_01-00007.txt', 'KB_JB838_1966-12-25_01-00013.txt', 'KB_JB838_1966-06-22_01-00025.txt', 'KB_JB838_1966-04-10_01-00027.txt', 'KB_JB838_1966-09-17_01-00005.txt', 'KB_JB838_1966-07-26_01-00013.txt', 'KB_JB838_1966-02-13_01-00001.txt', 'KB_JB838_1966-07-10_01-00004.txt', 'KB_JB838_1966-07-24_01-00009.txt', 'KB_JB838_1966-06-08_01-00007.txt', 'KB_JB838_1966-09-29_01-00026.txt', 'KB_JB838_1966-11-26_01-00016.txt', 'KB_JB838_1966-11-11_01-00013.txt', 'KB_JB838_1966-10-18_01-00024.txt', 'KB_JB838_1966-09-09_01-00004.txt', 'KB_JB838_1966-01-28_01-00018.txt', 'KB_JB838_1966-11-05_01-00016.txt', 'KB_JB838_1966-08-17_01-00017.txt']\n"
     ]
    }
   ],
   "source": [
    "#Test commit\n",
    "\n",
    "print(txts)"
   ]
  }
 ],
 "metadata": {
  "kernelspec": {
   "display_name": "Python 3.10.7 ('tac_venv': venv)",
   "language": "python",
   "name": "python3"
  },
  "language_info": {
   "codemirror_mode": {
    "name": "ipython",
    "version": 3
   },
   "file_extension": ".py",
   "mimetype": "text/x-python",
   "name": "python",
   "nbconvert_exporter": "python",
   "pygments_lexer": "ipython3",
   "version": "3.10.7"
  },
  "vscode": {
   "interpreter": {
    "hash": "fc4111ba5b4dc9a0f40c20f04f531195302551394a5b81f5296f1ed3661613e4"
   }
  }
 },
 "nbformat": 4,
 "nbformat_minor": 4
}
