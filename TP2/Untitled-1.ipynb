{
 "cells": [
  {
   "cell_type": "code",
   "execution_count": 16,
   "metadata": {},
   "outputs": [],
   "source": [
    "import os\n",
    "import yake\n",
    "import nltk"
   ]
  },
  {
   "cell_type": "code",
   "execution_count": 17,
   "metadata": {},
   "outputs": [],
   "source": [
    "from collections import defaultdict\n",
    "import sys\n",
    "import spacy\n",
    "from spacy.lang.fr.examples import sentences"
   ]
  },
  {
   "cell_type": "code",
   "execution_count": 18,
   "metadata": {},
   "outputs": [],
   "source": [
    "nlp = spacy.load('fr_core_news_md')"
   ]
  },
  {
   "cell_type": "code",
   "execution_count": 19,
   "metadata": {},
   "outputs": [
    {
     "data": {
      "text/plain": [
       "<yake.yake.KeywordExtractor at 0x12ce9c400>"
      ]
     },
     "execution_count": 19,
     "metadata": {},
     "output_type": "execute_result"
    }
   ],
   "source": [
    "# Instantier l'extracteur de mots clés\n",
    "kw_extractor = yake.KeywordExtractor(lan=\"fr\", top=50)\n",
    "kw_extractor"
   ]
  },
  {
   "cell_type": "code",
   "execution_count": 20,
   "metadata": {},
   "outputs": [
    {
     "data": {
      "text/plain": [
       "100"
      ]
     },
     "execution_count": 20,
     "metadata": {},
     "output_type": "execute_result"
    }
   ],
   "source": [
    "year = 1966\n",
    "\n",
    "data_path = '../data'\n",
    "\n",
    "txt_path = '../data/txt'\n",
    "\n",
    "txts = [f for f in os.listdir(txt_path) if os.path.isfile(os.path.join(txt_path, f)) and str(year) in f]\n",
    "\n",
    "len(txts)"
   ]
  },
  {
   "cell_type": "code",
   "execution_count": 21,
   "metadata": {},
   "outputs": [
    {
     "data": {
      "text/plain": [
       "['KB_JB838_1966-08-30_01-00011.txt',\n",
       " 'KB_JB838_1966-07-12_01-00017.txt',\n",
       " 'KB_JB838_1966-02-26_01-00002.txt',\n",
       " 'KB_JB838_1966-01-29_01-00013.txt',\n",
       " 'KB_JB838_1966-02-16_01-00006.txt',\n",
       " 'KB_JB838_1966-06-18_01-00028.txt',\n",
       " 'KB_JB838_1966-11-20_01-00023.txt',\n",
       " 'KB_JB838_1966-06-08_01-00026.txt',\n",
       " 'KB_JB838_1966-02-10_01-00001.txt',\n",
       " 'KB_JB838_1966-11-26_01-00032.txt']"
      ]
     },
     "execution_count": 21,
     "metadata": {},
     "output_type": "execute_result"
    }
   ],
   "source": [
    "# Les dix premiers fichiers\n",
    "txts[:10]"
   ]
  },
  {
   "cell_type": "code",
   "execution_count": 22,
   "metadata": {},
   "outputs": [
    {
     "data": {
      "text/plain": [
       "'KB_JB838_1966-12-08_01-00012.txt'"
      ]
     },
     "execution_count": 22,
     "metadata": {},
     "output_type": "execute_result"
    }
   ],
   "source": [
    "# Choisir un fichier\n",
    "this_file = txts[12]\n",
    "this_file"
   ]
  },
  {
   "cell_type": "code",
   "execution_count": 23,
   "metadata": {},
   "outputs": [
    {
     "data": {
      "text/plain": [
       "\"12 . LE SOIR Jeudi, face à Honved Budapest, en match-aller de 8 me de finale de la Coupe d'Europe Le Racing de Malines doit limiter les dégâts T JEUDI 8 DECEMBRE 1966 - - - Pas plus étoffé que les dernières années Exempté du premier tour éliminatoire, le Racing de Malines débutera jeudi après midi (15 h 45) à Budapest en Coupe d’Europe des clubs champions. Il y rencontrera Honved Budapest en match-aller de huitièmes de linale, la seconde manche se disputant, le 15 novembre, à l’Arena de Deurne. \""
      ]
     },
     "execution_count": 23,
     "metadata": {},
     "output_type": "execute_result"
    }
   ],
   "source": [
    "# Récupérer le texte du fichier\n",
    "text = open(os.path.join(txt_path, this_file), 'r', encoding='utf-8').read()\n",
    "text[:500]"
   ]
  },
  {
   "cell_type": "code",
   "execution_count": 24,
   "metadata": {},
   "outputs": [
    {
     "data": {
      "text/plain": [
       "[('pts', 0.0012962724451267673),\n",
       " ('Belgique', 0.009190354594685627),\n",
       " ('Red Sox', 0.009241816933868826),\n",
       " ('Prix', 0.01207567444234317),\n",
       " ('Van', 0.01249401031510284),\n",
       " ('tour', 0.016081677350206543),\n",
       " ('SOIR', 0.016341542609950303),\n",
       " ('Honved Budapest', 0.016433876463239974),\n",
       " ('Racing de Malines', 0.017205404804297848),\n",
       " ('Racing', 0.017788106016153743),\n",
       " ('Mme', 0.018033629353808523),\n",
       " ('Malines', 0.018188728109897717),\n",
       " ('Coupe', 0.018398207086884156),\n",
       " ('tours', 0.020102096687758177),\n",
       " ('Joël Robert', 0.021397150648077366),\n",
       " ('Para', 0.02531540501086204),\n",
       " ('Van Hoof', 0.03170707030351907),\n",
       " ('Grand Prix', 0.032036924411983456),\n",
       " ('Coupe d’Europe', 0.03250368183855206),\n",
       " ('Red', 0.03253647793562752),\n",
       " ('Sox', 0.033061231536647126),\n",
       " ('Budapest', 0.0345797580283415),\n",
       " ('club', 0.03608626555598461),\n",
       " ('Honved', 0.03640261180384409),\n",
       " ('tournoi', 0.03684704810112896),\n",
       " ('Métissé', 0.03908772131632472),\n",
       " ('mardi soir', 0.03931823894756685),\n",
       " ('France', 0.039728566581680044),\n",
       " ('Robert', 0.04065795317062953),\n",
       " ('classement', 0.04074766145079512),\n",
       " ('sélections', 0.041948935749596655),\n",
       " ('Racing White', 0.04196977988167984),\n",
       " ('Coster', 0.04206437099670992),\n",
       " ('Milan', 0.042168894375412706),\n",
       " ('Malines débutera jeudi', 0.042498661261643714),\n",
       " ('champions', 0.044636398241583594),\n",
       " ('match', 0.04619132720122508),\n",
       " ('Roger De Coster', 0.047629341660627794),\n",
       " ('place', 0.04787487959762047),\n",
       " ('Cross', 0.04887469865651619),\n",
       " ('Roger', 0.05009836015389834),\n",
       " ('nations', 0.05015300445877047),\n",
       " ('points', 0.05086408499708196),\n",
       " ('champion', 0.05101302656180983),\n",
       " ('Championnats', 0.05181896002486201),\n",
       " ('Jours', 0.05195292598329787),\n",
       " ('n’est', 0.05244526637442172),\n",
       " ('set', 0.05281118539367138),\n",
       " ('rencontrera Honved Budapest', 0.05299517482707023),\n",
       " ('c’est', 0.053078258677162565)]"
      ]
     },
     "execution_count": 24,
     "metadata": {},
     "output_type": "execute_result"
    }
   ],
   "source": [
    "# Extraire les mots clés de ce texte\n",
    "keywords = kw_extractor.extract_keywords(text)\n",
    "keywords"
   ]
  },
  {
   "cell_type": "code",
   "execution_count": 25,
   "metadata": {},
   "outputs": [
    {
     "data": {
      "text/plain": [
       "['Red Sox',\n",
       " 'Honved Budapest',\n",
       " 'Joël Robert',\n",
       " 'Van Hoof',\n",
       " 'Grand Prix',\n",
       " 'Coupe d’Europe',\n",
       " 'mardi soir',\n",
       " 'Racing White']"
      ]
     },
     "execution_count": 25,
     "metadata": {},
     "output_type": "execute_result"
    }
   ],
   "source": [
    "# Ne garder que les bigrammes\n",
    "kept = []\n",
    "for kw, score in keywords:\n",
    "    words = kw.split()\n",
    "    if len(words) == 2:\n",
    "        kept.append(kw)\n",
    "kept"
   ]
  },
  {
   "cell_type": "code",
   "execution_count": 26,
   "metadata": {},
   "outputs": [],
   "source": [
    "# Stocker le contenu de ces fichiers dans une liste\n",
    "content_list = []\n",
    "for txt in txts:\n",
    "    with open(os.path.join(txt_path, txt), 'r') as f:\n",
    "        content_list.append(f.read())"
   ]
  },
  {
   "cell_type": "code",
   "execution_count": 27,
   "metadata": {},
   "outputs": [],
   "source": [
    "# Ecrire tout le contenu dans un fichier temporaire\n",
    "temp_path = '../data/tmp'\n",
    "if not os.path.exists(temp_path):\n",
    "    os.mkdir(temp_path)\n",
    "with open(os.path.join(temp_path, f'{year}.txt'), 'w') as f:\n",
    "    f.write(' '.join(content_list))"
   ]
  },
  {
   "cell_type": "code",
   "execution_count": 28,
   "metadata": {},
   "outputs": [],
   "source": [
    "# Nettoyer le texte avec fonction de nettoyage\n",
    "\n",
    "def clean_text(year, folder=None):\n",
    "    if folder is None:\n",
    "        input_path = f\"{year}.txt\"\n",
    "        output_path = f\"{year}_clean.txt\"\n",
    "    else:\n",
    "        input_path = f\"{folder}/{year}.txt\"\n",
    "        output_path = f\"{folder}/{year}_clean.txt\"\n",
    "    output = open(output_path, \"w\", encoding='utf-8')\n",
    "    with open(input_path, encoding='utf-8') as f:\n",
    "        text = f.read()\n",
    "        words = nltk.wordpunct_tokenize(text)\n",
    "        kept = [w.lower() for w in words if len(w) > 2 and w.isalpha() and w.lower() not in sw]\n",
    "        kept_string = \" \".join(kept)\n",
    "        output.write(kept_string)\n",
    "    return f'Output has been written in {output_path}!'"
   ]
  },
  {
   "cell_type": "code",
   "execution_count": 29,
   "metadata": {},
   "outputs": [],
   "source": [
    "# Charger le texte\n",
    "n=100000\n",
    "text = open(os.path.join(temp_path, f'{year}_clean.txt'), encoding='utf-8').read()[:n]"
   ]
  },
  {
   "cell_type": "code",
   "execution_count": 30,
   "metadata": {},
   "outputs": [
    {
     "name": "stdout",
     "output_type": "stream",
     "text": [
      "CPU times: user 5.71 s, sys: 479 ms, total: 6.19 s\n",
      "Wall time: 7.87 s\n"
     ]
    }
   ],
   "source": [
    "%%time\n",
    "# Traiter le texte\n",
    "\n",
    "doc = nlp(text)"
   ]
  },
  {
   "cell_type": "code",
   "execution_count": 31,
   "metadata": {},
   "outputs": [],
   "source": [
    "# Compter les entités\n",
    "people = defaultdict(int)\n",
    "for ent in doc.ents:\n",
    "    if ent.label_ == \"PER\" and len(ent.text) > 3:\n",
    "        people[ent.text] += 1"
   ]
  },
  {
   "cell_type": "code",
   "execution_count": 32,
   "metadata": {},
   "outputs": [
    {
     "name": "stdout",
     "output_type": "stream",
     "text": [
      "siniavski daniel apparait 4 fois dans le corpus\n",
      "siniavski apparait 4 fois dans le corpus\n",
      "scott apparait 4 fois dans le corpus\n",
      "daniel apparait 3 fois dans le corpus\n",
      "borel delsart apparait 2 fois dans le corpus\n",
      "borel apparait 2 fois dans le corpus\n",
      "armstrong apparait 2 fois dans le corpus\n",
      "roger apparait 2 fois dans le corpus\n",
      "itional sau plu can apparait 1 fois dans le corpus\n",
      "précé olr apparait 1 fois dans le corpus\n",
      "iclaré apparait 1 fois dans le corpus\n",
      "devrlo apparait 1 fois dans le corpus\n",
      "irge frali apparait 1 fois dans le corpus\n",
      "jean pierre vaste voiture apparait 1 fois dans le corpus\n",
      "ille falalsi apparait 1 fois dans le corpus\n",
      "hom libre apparait 1 fois dans le corpus\n",
      "salüt pat apparait 1 fois dans le corpus\n",
      "leibnitz apparait 1 fois dans le corpus\n",
      "lortmiolsl hayna tilianus ncourt lajeur apparait 1 fois dans le corpus\n",
      "guy îud iste fris cur ficiers internationale wels apparait 1 fois dans le corpus\n",
      "tim présenlant apparait 1 fois dans le corpus\n",
      "ihu plan apparait 1 fois dans le corpus\n",
      "gousier apparait 1 fois dans le corpus\n",
      "paul hoby apparait 1 fois dans le corpus\n",
      "ceûa goujon nière apparait 1 fois dans le corpus\n",
      "carlsberg apparait 1 fois dans le corpus\n",
      "poissonnet apparait 1 fois dans le corpus\n",
      "artide pêcherons brochet apparait 1 fois dans le corpus\n",
      "adrien premorel soda boisson gômme apparait 1 fois dans le corpus\n",
      "toonder cappl apparait 1 fois dans le corpus\n",
      "bozz apparait 1 fois dans le corpus\n",
      "karry bishop harry bishop josephine coup apparait 1 fois dans le corpus\n",
      "perry apparait 1 fois dans le corpus\n",
      "elisabeth brozowska apparait 1 fois dans le corpus\n",
      "rip kirby apparait 1 fois dans le corpus\n",
      "john prentice max apparait 1 fois dans le corpus\n",
      "guy bara cosmos apparait 1 fois dans le corpus\n",
      "muller apparait 1 fois dans le corpus\n",
      "iglon chh ndivi apparait 1 fois dans le corpus\n",
      "kirà ier apparait 1 fois dans le corpus\n",
      "albert lhoren apparait 1 fois dans le corpus\n",
      "pos tranq île apparait 1 fois dans le corpus\n",
      "vtgat apparait 1 fois dans le corpus\n",
      "lind lert orop apparait 1 fois dans le corpus\n",
      "rferveld conft kvi apparait 1 fois dans le corpus\n",
      "cft coquet apparait 1 fois dans le corpus\n",
      "broqueville aonn erllch apparait 1 fois dans le corpus\n",
      "cft louer magn apparait 1 fois dans le corpus\n",
      "lnlr desmet derache quartier jubile belgica muse ensoleillé plain pied dche apparait 1 fois dans le corpus\n",
      "brugmann weymeersch wol pierre apparait 1 fois dans le corpus\n"
     ]
    }
   ],
   "source": [
    "# Trier et imprimer\n",
    "\n",
    "sorted_people = sorted(people.items(), key=lambda kv: kv[1], reverse=True)\n",
    "\n",
    "for person, freq in sorted_people[:50]:\n",
    "    print(f\"{person} apparait {freq} fois dans le corpus\")"
   ]
  }
 ],
 "metadata": {
  "kernelspec": {
   "display_name": "Python 3.10.7 ('tac_venv': venv)",
   "language": "python",
   "name": "python3"
  },
  "language_info": {
   "codemirror_mode": {
    "name": "ipython",
    "version": 3
   },
   "file_extension": ".py",
   "mimetype": "text/x-python",
   "name": "python",
   "nbconvert_exporter": "python",
   "pygments_lexer": "ipython3",
   "version": "3.10.7"
  },
  "orig_nbformat": 4,
  "vscode": {
   "interpreter": {
    "hash": "fc4111ba5b4dc9a0f40c20f04f531195302551394a5b81f5296f1ed3661613e4"
   }
  }
 },
 "nbformat": 4,
 "nbformat_minor": 2
}
