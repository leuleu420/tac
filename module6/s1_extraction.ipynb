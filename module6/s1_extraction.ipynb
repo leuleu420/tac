{
 "cells": [
  {
   "cell_type": "markdown",
   "metadata": {},
   "source": [
    "# Extraire le texte dans des documents \"riches\""
   ]
  },
  {
   "cell_type": "markdown",
   "metadata": {},
   "source": [
    "## Imports"
   ]
  },
  {
   "cell_type": "code",
   "execution_count": null,
   "metadata": {},
   "outputs": [],
   "source": [
    "import os\n",
    "import textract\n",
    "import openpyxl"
   ]
  },
  {
   "cell_type": "markdown",
   "metadata": {},
   "source": [
    "## Lister les fichiers dans le répertoire `dummy`"
   ]
  },
  {
   "cell_type": "code",
   "execution_count": null,
   "metadata": {},
   "outputs": [],
   "source": [
    "path = 'dummy/'\n",
    "files = os.listdir(path)\n",
    "print(files)"
   ]
  },
  {
   "cell_type": "markdown",
   "metadata": {},
   "source": [
    "## Extraire le texte de chacun des fichiers à l'aide de la librairie `textract`\n"
   ]
  },
  {
   "cell_type": "code",
   "execution_count": null,
   "metadata": {},
   "outputs": [],
   "source": [
    "for f in sorted(files):\n",
    "    try:\n",
    "        text = textract.process(os.path.join(path, f))\n",
    "        print(text.decode('utf-8').strip())\n",
    "    except Exception as e: #si erreur, expliquer de quelle erreur il s'agit, OK sur petits bouts de code mais pas sur des gros codes car ne permettra pas de situer où l'erreur se trouve\n",
    "        print(os.path.join(path, f), e)"
   ]
  }
 ],
 "metadata": {
  "kernelspec": {
   "display_name": "Python 3.10.7 ('tac_venv': venv)",
   "language": "python",
   "name": "python3"
  },
  "language_info": {
   "codemirror_mode": {
    "name": "ipython",
    "version": 3
   },
   "file_extension": ".py",
   "mimetype": "text/x-python",
   "name": "python",
   "nbconvert_exporter": "python",
   "pygments_lexer": "ipython3",
   "version": "3.10.7"
  },
  "vscode": {
   "interpreter": {
    "hash": "fc4111ba5b4dc9a0f40c20f04f531195302551394a5b81f5296f1ed3661613e4"
   }
  }
 },
 "nbformat": 4,
 "nbformat_minor": 4
}
